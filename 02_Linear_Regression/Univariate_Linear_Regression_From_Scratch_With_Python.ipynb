{
  "nbformat": 4,
  "nbformat_minor": 0,
  "metadata": {
    "colab": {
      "name": "Univariate_Linear_Regression_From_Scratch_With_Python.ipynb",
      "provenance": [],
      "collapsed_sections": [],
      "include_colab_link": true
    },
    "kernelspec": {
      "name": "python3",
      "display_name": "Python 3"
    }
  },
  "cells": [
    {
      "cell_type": "markdown",
      "metadata": {
        "id": "view-in-github",
        "colab_type": "text"
      },
      "source": [
        "<a href=\"https://colab.research.google.com/github/satishgunjal/Machine_Learning_Tutorials/blob/master/Linear_Regression/Univariate_Linear_Regression_From_Scratch_With_Python.ipynb\" target=\"_parent\"><img src=\"https://colab.research.google.com/assets/colab-badge.svg\" alt=\"Open In Colab\"/></a>"
      ]
    },
    {
      "cell_type": "markdown",
      "metadata": {
        "id": "37PKYvU6shum",
        "colab_type": "text"
      },
      "source": [
        "This tutorial covers basic concepts of linear regression. I will explain the process of creating a model right from hypothesis function to gradient descent algorithm. We will also use plots for better visualization of inner workings of the model. At the end we will test our model using single variable training data.\n"
      ]
    },
    {
      "cell_type": "markdown",
      "metadata": {
        "id": "_7MeFGMQq58x",
        "colab_type": "text"
      },
      "source": [
        "## **Introduction**\n",
        " \n",
        "Linear regression is one of the most basic machine learning model. Its like a 'hello world' program of the machine learning. Linear regression is used when there is linear relationship between input variables and output variables. That means we can calculate the values of output variables by using some kind of linear combination of input variables. For example house prices are directly proportional to the house size, no of bedrooms, location etc. There is linear relationship between house prices and factors affecting it.\n",
        " \n",
        "If there is only one input variable then we call it 'Single Variable Linear Regression' or **'Univariate Linear Regression'**. And in case of more than one input variables we call it 'Multi Variable Linear Regression' or **'Multivariate Linear Regression'**. In this tutorial we will work on univariate linear regression only. Linear regression is **'Supervised Learning Algorithm'** and mainly used to predict real valued output like house prices.\n",
        " \n",
        "This tutorial is divided in two parts, in part one we will create our own linear regression model from scratch and in part two we will use prebuilt linear model from scikit-learn library.\n"
      ]
    },
    {
      "cell_type": "markdown",
      "metadata": {
        "id": "kRltr9LKrHTD",
        "colab_type": "text"
      },
      "source": [
        "## **Objective Of Linear Model**\n",
        "Every machine learning model actually generalize the relationship between input variables and output variables. In case of linear regression since relationship is linear, this generalization can be represented by simple line function. Let's consider the below example, input values are plotted on X axis and output values are plotted on Y axis.\n",
        " \n",
        "![Linear Relationship Between Input(X) and Output(y) Values](https://raw.githubusercontent.com/satishgunjal/images/master/Only_Datapoints.png)\n",
        " \n",
        "Since there are only few data point we can easily eyeball it and draw the best fit line, which will generalize the relationship between input and output variables for us. \n",
        " \n",
        "![Line Generalizing The Relationship Between Input(X) and Output(y) Values](https://raw.githubusercontent.com/satishgunjal/images/master/Datapoints_With_Line.png)\n",
        " \n",
        "Since this line generalizes the relationship between input and output values for any prediction on given input value, we can simply plot it on a line and Y coordinate for that point will give us the prediction value. \n",
        " \n",
        "![Prediction Using Best Fit Line](https://raw.githubusercontent.com/satishgunjal/images/master/Datapoints_With_Line_And_Prediction.png)\n",
        " \n",
        "So our objective is to find the best fit line which will generalize the given training data for future predictions."
      ]
    },
    {
      "cell_type": "markdown",
      "metadata": {
        "id": "-Qqa-DUMrg78",
        "colab_type": "text"
      },
      "source": [
        "## **Create Hypothesis Function**\n",
        "Linear model hypothesis function is nothing but line function only.\n",
        "\n",
        "Equation of line is \n",
        "\n",
        "**y = mx + b**\n",
        "\n",
        "where\n",
        "- m = slope/gradient\n",
        "- x = input\n",
        "- b = Y intercept\n",
        "\n",
        "We are just going to use different notation to write it. I am using same notation and example data used in [Andrew Ng's Machine Learning course](https://www.coursera.org/learn/machine-learning/home/welcome)\n",
        "\n",
        "\n",
        "**h(θ, x) = θ_0 + θ_1 * x_1**\n",
        "\n",
        "where\n",
        "- θ_1 = m = slope/gradient\n",
        "- x = input\n",
        "- θ_0 = b = Y intercept\n",
        "\n",
        "![Line Function](https://raw.githubusercontent.com/satishgunjal/Images/master/Line_Function.png)\n",
        "\n",
        "We already have input variables (x) with us if we can find θ_1 or m and θ_0 or b then we will get best fit line.\n",
        "\n",
        "Since we have our hypothesis function we are now one step closer to our objective of finding best fit line. But how to find optimum values of theta parameters?"
      ]
    },
    {
      "cell_type": "markdown",
      "metadata": {
        "id": "XjEBs0Karjed",
        "colab_type": "text"
      },
      "source": [
        "## **Create Cost Function**\n",
        "It is obvious that to find the optimum values of theta parameters we have to try multiple values and then choose the best possible values based on the fit of the line. To do this we will create a cost function (J). Inner working of cost function is as below\n",
        "- We will start with random values of θ_0 and θ_1\n",
        "- We will execute the hypothesis function using theta values, to get the predicted values for every training example \n",
        "- Now we will compare our predicted values with actual target values from training data.\n",
        "- The difference between prediction and actual values is called as 'cost'\n",
        "- If our cost is close to 0 means our predictions are correct and so are our theta values\n",
        " \n",
        "Instead of plain subtraction(predicted value - target value) we will use below form of more sophisticated cost function, also called as 'Square Error Function'\n",
        " \n",
        "![Cost Function](https://raw.githubusercontent.com/satishgunjal/Images/master/Cost_Function_Formula.png)\n",
        " \n",
        "![Square Error Calculation](https://raw.githubusercontent.com/satishgunjal/Images/master/Square_Error_Function.png)\n",
        " \n",
        " Cost function is a function of theta parameters. For simplicity if we plot the cost function against values of θ_1 then we get the 'Convex function'\n",
        " \n",
        "![Convex Function](https://raw.githubusercontent.com/satishgunjal/Images/master/Convex_Function.png)\n",
        " \n",
        "At the bottom of the curve we get the minimum value of cost for given value of θ_1. This process of trying different values theta to get minimum cost values is called as **'Minimizing The Cost'**.\n",
        " \n",
        "Now we are one more step closure to our objective. Only the last part of puzzle is remaining. How many theta values should we try and how to change those values?"
      ]
    },
    {
      "cell_type": "markdown",
      "metadata": {
        "id": "6kqcZBrTrnOb",
        "colab_type": "text"
      },
      "source": [
        "## **Gradient Descent Algorithm**\n",
        "This is heart of our model, gradient descent algorithm will help us find optimum values of theta parameters. Inner working of gradient descent algorithm is as below,\n",
        "  - We start with random value of θ_0 and θ_1\n",
        "  - Calculate the cost using cost function\n",
        "  - Change the value of θ_0 and θ_1 in order to find minimum cost value\n",
        "  - Keep doing this till we get the minimum value of cost\n",
        " \n",
        "In order to change the value of theta it's important to know whether to increase or decrease its value and by how much margin. Remember our cost function is a convex function and our objective is to go to its bottom. \n",
        "Partial derivative of the cost function will give us the slope at that point.\n",
        " \n",
        "Consider below examples of positive and negatives slopes,\n",
        " \n",
        "In case of positive slope we have to decrease the value of θ_1 to get minimum cost value.\n",
        " \n",
        "![Positive Slope](https://raw.githubusercontent.com/satishgunjal/Images/master/Positive_Slope.png)\n",
        " \n",
        "In case of negative slope we have to increase the value of θ_1 to get minimum cost value.\n",
        " \n",
        "![Negative Slope](https://raw.githubusercontent.com/satishgunjal/Images/master/Negative_Slope.png)\n",
        " \n",
        "So with the help of slope, we can decide whether to increase or decrease the theta value, but to control the magnitude of change we are going to use **'Learning Parameter Alpha (α)'**.\n",
        " \n",
        "So the final formula to change the theta value is as below,\n",
        " \n",
        "**θ_0 = θ_0 - alpha * partial derivative of cost function w.r.t θ_0**\n",
        " \n",
        "**θ_1 = θ_1 - alpha * partial derivative of cost function w.r.t θ_1**\n",
        " \n",
        "After replacing the value of partial derivative of cost function, our formula to get theta values will looks like,\n",
        " \n",
        "![Gradient Descent Formula](https://raw.githubusercontent.com/satishgunjal/Images/master/Gradient_Descent_Formula.png)\n",
        " \n",
        "Since at every step of gradient descent we are calculating the cost using all the training example, it is also called as **'Batch Gradient Descent'** algorithm\n",
        " \n",
        "Enough of theory, now lets implement gradient descent algorithm using Python and create our linear model "
      ]
    },
    {
      "cell_type": "markdown",
      "metadata": {
        "id": "X3yT1iKLArvv",
        "colab_type": "text"
      },
      "source": [
        "## **Notations used**\n",
        "* m   = no of training examples (no of rows of feature matrix)\n",
        "* n   = no of features (no of columns of feature matrix)\n",
        "* x's = input variables / independent variables / features\n",
        "* y's = output variables / dependent variables / target"
      ]
    },
    {
      "cell_type": "markdown",
      "metadata": {
        "id": "bVBNurYjgdyF",
        "colab_type": "text"
      },
      "source": [
        "## **Import the required libraries**\n",
        "* numpy : Numpy is the core library for scientific computing in Python. It is used for working with arrays and matrices.\n",
        "* pandas: Used for data manipulation and analysis\n",
        "* matplotlib : It's plotting library, and we are going to use it for data visualization"
      ]
    },
    {
      "cell_type": "code",
      "metadata": {
        "id": "xbgBF0PwKZjA",
        "colab_type": "code",
        "colab": {}
      },
      "source": [
        "import numpy as np\n",
        "import pandas as pd\n",
        "import matplotlib.pyplot as plt"
      ],
      "execution_count": 0,
      "outputs": []
    },
    {
      "cell_type": "markdown",
      "metadata": {
        "id": "KSSbxALogoo_",
        "colab_type": "text"
      },
      "source": [
        "## **Load the data**\n",
        "* We are going to use 'profits_and_populations_from_the_cities.csv' CSV file\n",
        "* File contains two columns, the first column is the population of a city and the second column is the profit of a food truck in that city. A negative value for profit indicates a loss.\n"
      ]
    },
    {
      "cell_type": "code",
      "metadata": {
        "id": "4tnCNUZj3wBI",
        "colab_type": "code",
        "outputId": "e6572fc1-1497-471b-a934-da89f2035fe0",
        "colab": {
          "base_uri": "https://localhost:8080/",
          "height": 202
        }
      },
      "source": [
        "df = pd.read_csv('https://raw.githubusercontent.com/satishgunjal/datasets/master/univariate_profits_and_populations_from_the_cities.csv')\n",
        "df.head() # To get first n rows from the dataset default value of n is 5"
      ],
      "execution_count": 6,
      "outputs": [
        {
          "output_type": "execute_result",
          "data": {
            "text/html": [
              "<div>\n",
              "<style scoped>\n",
              "    .dataframe tbody tr th:only-of-type {\n",
              "        vertical-align: middle;\n",
              "    }\n",
              "\n",
              "    .dataframe tbody tr th {\n",
              "        vertical-align: top;\n",
              "    }\n",
              "\n",
              "    .dataframe thead th {\n",
              "        text-align: right;\n",
              "    }\n",
              "</style>\n",
              "<table border=\"1\" class=\"dataframe\">\n",
              "  <thead>\n",
              "    <tr style=\"text-align: right;\">\n",
              "      <th></th>\n",
              "      <th>population</th>\n",
              "      <th>profit</th>\n",
              "    </tr>\n",
              "  </thead>\n",
              "  <tbody>\n",
              "    <tr>\n",
              "      <th>0</th>\n",
              "      <td>6.1101</td>\n",
              "      <td>17.5920</td>\n",
              "    </tr>\n",
              "    <tr>\n",
              "      <th>1</th>\n",
              "      <td>5.5277</td>\n",
              "      <td>9.1302</td>\n",
              "    </tr>\n",
              "    <tr>\n",
              "      <th>2</th>\n",
              "      <td>8.5186</td>\n",
              "      <td>13.6620</td>\n",
              "    </tr>\n",
              "    <tr>\n",
              "      <th>3</th>\n",
              "      <td>7.0032</td>\n",
              "      <td>11.8540</td>\n",
              "    </tr>\n",
              "    <tr>\n",
              "      <th>4</th>\n",
              "      <td>5.8598</td>\n",
              "      <td>6.8233</td>\n",
              "    </tr>\n",
              "  </tbody>\n",
              "</table>\n",
              "</div>"
            ],
            "text/plain": [
              "   population   profit\n",
              "0      6.1101  17.5920\n",
              "1      5.5277   9.1302\n",
              "2      8.5186  13.6620\n",
              "3      7.0032  11.8540\n",
              "4      5.8598   6.8233"
            ]
          },
          "metadata": {
            "tags": []
          },
          "execution_count": 6
        }
      ]
    },
    {
      "cell_type": "code",
      "metadata": {
        "id": "YSGpIL1Uguts",
        "colab_type": "code",
        "outputId": "1cc667b3-ded6-48fd-e6b5-8a147efe1f1d",
        "colab": {
          "base_uri": "https://localhost:8080/",
          "height": 69
        }
      },
      "source": [
        "X = df.values[:, 0]  # get input values from first column\n",
        "y = df.values[:, 1]  # get output values from second column\n",
        "m = len(y) # Number of training examples\n",
        "print('X = ', X[: 5]) # Show only first 5 records\n",
        "print('y = ', y[: 5])\n",
        "print('m = ', m)"
      ],
      "execution_count": 0,
      "outputs": [
        {
          "output_type": "stream",
          "text": [
            "X =  [6.1101 5.5277 8.5186 7.0032 5.8598]\n",
            "y =  [17.592   9.1302 13.662  11.854   6.8233]\n",
            "m =  97\n"
          ],
          "name": "stdout"
        }
      ]
    },
    {
      "cell_type": "markdown",
      "metadata": {
        "id": "V3ARTm1Xhjbx",
        "colab_type": "text"
      },
      "source": [
        "## **Understand the data**\n",
        "* Population of City in 10,000s and Profit in $10,000s. i.e 10K is multiplier for each data point\n",
        "* There are total 97 training examples (m= 97 or 97 no of rows)\n",
        "* There is only one feature (one column of feature and one of label/target/y)"
      ]
    },
    {
      "cell_type": "markdown",
      "metadata": {
        "id": "uHUBwxpRf6d1",
        "colab_type": "text"
      },
      "source": [
        "## **Data Visualization**\n",
        "* Lets assign the features(independent variables) values to variable X and target(dependent variable) values to variable y\n",
        "* For this dataset, we can use a scatter plot to visualize the\n",
        "data, since it has only two properties to plot (profit and population). \n",
        "* Many other problems that you will encounter in real life are multi-dimensional and can't be plotted on a 2D plot"
      ]
    },
    {
      "cell_type": "code",
      "metadata": {
        "id": "a3dHnS66jhA7",
        "colab_type": "code",
        "outputId": "d8b71dbe-fe25-4e7b-e3a4-716c244cafb8",
        "colab": {
          "base_uri": "https://localhost:8080/",
          "height": 421
        }
      },
      "source": [
        "plt.scatter(X,y, color='red',marker= '+')\n",
        "plt.grid()\n",
        "plt.rcParams[\"figure.figsize\"] = (10,6)\n",
        "plt.xlabel('Population of City in 10,000s')\n",
        "plt.ylabel('Profit in $10,000s')\n",
        "plt.title('Scatter plot of training data')"
      ],
      "execution_count": 0,
      "outputs": [
        {
          "output_type": "execute_result",
          "data": {
            "text/plain": [
              "Text(0.5, 1.0, 'Scatter plot of training data')"
            ]
          },
          "metadata": {
            "tags": []
          },
          "execution_count": 18
        },
        {
          "output_type": "display_data",
          "data": {
            "image/png": "[encoded data removed]",
            "text/plain": [
              "<Figure size 720x432 with 1 Axes>"
            ]
          },
          "metadata": {
            "tags": [],
            "needs_background": "light"
          }
        }
      ]
    },
    {
      "cell_type": "markdown",
      "metadata": {
        "id": "dbX93rgfhdFp",
        "colab_type": "text"
      },
      "source": [
        "## **Create Cost Function**\n",
        "* Whenever possible we are going to use matrix calculation for better performance.\n",
        "* Our hypothesis function is h(θ, x) = θ_0 + θ_1 * x_1 \n",
        " \n",
        " \n",
        "### **Vector Representation Of Hypothesis Function**\n",
        " \n",
        "* Please note we have to use above function for every value of training example to get predicted value. \n",
        "* Using for loop to do the calculations will take lots of time. Matrix operations are much faster than loops. \n",
        "* If we represent the input values(X) and theta values in matrix format then **Xθ** (X matrix multiply by θ vector) will give us predicted value for every training example.\n",
        "* This is also called as vector implementation of equation.\n",
        " \n",
        "* Lets create X and theta matrix using available values. Dimension of X matrix is (2 x 1)\n",
        "\n",
        "  ![X_matrix_2x1.png](https://raw.githubusercontent.com/satishgunjal/Images/master/X_matrix_2x1.png)\n",
        "\n",
        "* Lets create θ matrix using available values. Dimension of θ matrix is (2 x 1)\n",
        "\n",
        "  ![theta_matrix_2x1.png](https://raw.githubusercontent.com/satishgunjal/Images/master/theta_matrix_2x1.png)\n",
        " \n",
        "* If we want to do Xθ then no of columns of matrix X should match with no of rows of matrix θ. So let's add column of ones to matrix X to accommodate the θ_0 intercept term\n",
        " \n",
        "  ![X_matrix_2x2.png](https://raw.githubusercontent.com/satishgunjal/Images/master/X_matrix_2x2.png)\n",
        " \n",
        "* Since dimension of X matrix is now (2 x 2), we can perform the multiplication\n",
        "  \n",
        "  ![X_multiply_theta.png](https://raw.githubusercontent.com/satishgunjal/Images/master/X_multiply_theta.png)\n",
        " \n",
        "* Product of Xθ will be a vector or 1D array,\n",
        "\n",
        "  ![X_multiply_theta_result.PNG](https://raw.githubusercontent.com/satishgunjal/Images/master/X_multiply_theta_result.PNG)\n",
        " \n",
        "* Notice that every row of our result vector is nothing but hypothesis function for every training example\n",
        "* Note that as of now variables X and y are 1D arrays, we are going to convert them into matrices i.e. 2D array(list of a list). Python doesn't have a built-in type for matrices. However, we can treat 2D array as a matrix \n"
      ]
    },
    {
      "cell_type": "code",
      "metadata": {
        "id": "ShRWIyuRUU7s",
        "colab_type": "code",
        "outputId": "c9f761ba-4b16-4d2c-80d8-d2cc9d4cf8d6",
        "colab": {
          "base_uri": "https://localhost:8080/",
          "height": 104
        }
      },
      "source": [
        "#Lets create a matrix with single column of ones\n",
        "X_0 = np.ones((m, 1))\n",
        "X_0[:5]"
      ],
      "execution_count": 0,
      "outputs": [
        {
          "output_type": "execute_result",
          "data": {
            "text/plain": [
              "array([[1.],\n",
              "       [1.],\n",
              "       [1.],\n",
              "       [1.],\n",
              "       [1.]])"
            ]
          },
          "metadata": {
            "tags": []
          },
          "execution_count": 19
        }
      ]
    },
    {
      "cell_type": "code",
      "metadata": {
        "id": "7JEs5zE984oX",
        "colab_type": "code",
        "outputId": "1cd87aef-1011-4576-a24e-fa1f0b271385",
        "colab": {
          "base_uri": "https://localhost:8080/",
          "height": 104
        }
      },
      "source": [
        "# Using reshape function convert X 1D array to 2D array of dimension 97x1\n",
        "X_1 = X.reshape(m, 1)\n",
        "X_1[:5]"
      ],
      "execution_count": 0,
      "outputs": [
        {
          "output_type": "execute_result",
          "data": {
            "text/plain": [
              "array([[6.1101],\n",
              "       [5.5277],\n",
              "       [8.5186],\n",
              "       [7.0032],\n",
              "       [5.8598]])"
            ]
          },
          "metadata": {
            "tags": []
          },
          "execution_count": 20
        }
      ]
    },
    {
      "cell_type": "code",
      "metadata": {
        "id": "xZukMcJJ9IIw",
        "colab_type": "code",
        "outputId": "ea2c4580-d002-48df-b0ae-7dd997e1a629",
        "colab": {
          "base_uri": "https://localhost:8080/",
          "height": 104
        }
      },
      "source": [
        "# Lets use hstack() function from numpy to stack X_0 and X_1 horizontally (i.e. column wise) to make a single 2D array. \n",
        "# This will be our final X matrix (feature matrix)\n",
        "X = np.hstack((X_0, X_1))\n",
        "X[:5]"
      ],
      "execution_count": 0,
      "outputs": [
        {
          "output_type": "execute_result",
          "data": {
            "text/plain": [
              "array([[1.    , 6.1101],\n",
              "       [1.    , 5.5277],\n",
              "       [1.    , 8.5186],\n",
              "       [1.    , 7.0032],\n",
              "       [1.    , 5.8598]])"
            ]
          },
          "metadata": {
            "tags": []
          },
          "execution_count": 21
        }
      ]
    },
    {
      "cell_type": "markdown",
      "metadata": {
        "id": "bZqns2WPC5Y8",
        "colab_type": "text"
      },
      "source": [
        "Remember to start with we need to initialize the theta parameter with random values. Lets initialize them with 0 values"
      ]
    },
    {
      "cell_type": "code",
      "metadata": {
        "id": "A5HduOgqoFCl",
        "colab_type": "code",
        "outputId": "c11b38b6-1ffc-4506-9f56-eb4a0941be25",
        "colab": {
          "base_uri": "https://localhost:8080/",
          "height": 35
        }
      },
      "source": [
        "theta = np.zeros(2)\n",
        "theta"
      ],
      "execution_count": 0,
      "outputs": [
        {
          "output_type": "execute_result",
          "data": {
            "text/plain": [
              "array([0., 0.])"
            ]
          },
          "metadata": {
            "tags": []
          },
          "execution_count": 22
        }
      ]
    },
    {
      "cell_type": "markdown",
      "metadata": {
        "id": "uOVC73p9u9mx",
        "colab_type": "text"
      },
      "source": [
        "### **Now lets write a function to compute a cost**\n",
        "* numpy.dot() this function returns the dot product of two arrays. For 2-D vectors, it is the equivalent to matrix multiplication\n",
        "* numpy.subtract() this function perform the element wise subtraction\n",
        "* numpy.square() this function perform the element wise square\n",
        "\n"
      ]
    },
    {
      "cell_type": "code",
      "metadata": {
        "id": "sbtPLcLaNzSG",
        "colab_type": "code",
        "colab": {}
      },
      "source": [
        "def compute_cost(X, y, theta):\n",
        "  \"\"\"\n",
        "  Compute cost for linear regression.\n",
        "\n",
        "  Input Parameters\n",
        "  ----------------\n",
        "  X : 2D array where each row represent the training example and each column represent the feature ndarray. Dimension(m x n)\n",
        "      m= number of training examples\n",
        "      n= number of features (including X_0 column of ones)\n",
        "  y : 1D array of labels/target value for each traing example. dimension(1 x m)\n",
        "\n",
        "  theta : 1D array of fitting parameters or weights. Dimension (1 x n)\n",
        "\n",
        "  Output Parameters\n",
        "  -----------------\n",
        "  J : Scalar value.\n",
        "  \"\"\"\n",
        "  predictions = X.dot(theta)\n",
        "  #print('predictions= ', predictions[:5])\n",
        "  errors = np.subtract(predictions, y)\n",
        "  #print('errors= ', errors[:5]) \n",
        "  sqrErrors = np.square(errors)\n",
        "  #print('sqrErrors= ', sqrErrors[:5]) \n",
        "  J = 1 / (2 * m) * np.sum(sqrErrors)\n",
        "\n",
        "  return J"
      ],
      "execution_count": 0,
      "outputs": []
    },
    {
      "cell_type": "code",
      "metadata": {
        "id": "B8XMeQsdJtv6",
        "colab_type": "code",
        "outputId": "bc3cd3aa-3ed1-4475-9cad-6526817708d6",
        "colab": {
          "base_uri": "https://localhost:8080/",
          "height": 35
        }
      },
      "source": [
        "# Lets compute the cost for theta values\n",
        "cost = compute_cost(X, y, theta)\n",
        "print('The cost for given values of theta_0 and theta_1 =', cost)"
      ],
      "execution_count": 0,
      "outputs": [
        {
          "output_type": "stream",
          "text": [
            "The cost for given values of theta_0 and theta_1 = 32.072733877455676\n"
          ],
          "name": "stdout"
        }
      ]
    },
    {
      "cell_type": "markdown",
      "metadata": {
        "id": "wtyKAj_xloiB",
        "colab_type": "text"
      },
      "source": [
        "The value of cost is 32.1, which is quite high. That means we have to keep trying different set of theta values till we get minimum cost value."
      ]
    },
    {
      "cell_type": "markdown",
      "metadata": {
        "id": "QGDVCZ_ALJtZ",
        "colab_type": "text"
      },
      "source": [
        "## **Gradient Descent Function**\n",
        "* As of now our compute_cost() function is ready which returns cost for given values of theta\n",
        "* We will create gradient_descent() function. In this function we are running a loop and for every iteration we are computing the value of theta using batch gradient descent algorithm. And using this value of theta we're also computing the 'cost' using cost function and storing it in a list.\n",
        "* If our algorithm is working properly and given parameters(alpha and theta) are correct then value of 'cost' should decrease for every step.\n",
        "* At the end we should get minimum cost value and corresponding theta parameters"
      ]
    },
    {
      "cell_type": "code",
      "metadata": {
        "id": "f8s16wF_QHal",
        "colab_type": "code",
        "colab": {}
      },
      "source": [
        "def gradient_descent(X, y, theta, alpha, iterations):\n",
        "  \"\"\"\n",
        "  Compute cost for linear regression.\n",
        "\n",
        "  Input Parameters\n",
        "  ----------------\n",
        "  X : 2D array where each row represent the training example and each column represent the feature ndarray. Dimension(m x n)\n",
        "      m= number of training examples\n",
        "      n= number of features (including X_0 column of ones)\n",
        "  y : 1D array of labels/target value for each traing example. dimension(m x 1)\n",
        "  theta : 1D array of fitting parameters or weights. Dimension (1 x n)\n",
        "  alpha : Learning rate. Scalar value\n",
        "  iterations: No of iterations. Scalar value. \n",
        "\n",
        "  Output Parameters\n",
        "  -----------------\n",
        "  theta : Final Value. 1D array of fitting parameters or weights. Dimension (1 x n)\n",
        "  cost_history: Conatins value of cost for each iteration. 1D array. Dimansion(m x 1)\n",
        "  \"\"\"\n",
        "  cost_history = np.zeros(iterations)\n",
        "\n",
        "  for i in range(iterations):\n",
        "    predictions = X.dot(theta)\n",
        "    #print('predictions= ', predictions[:5])\n",
        "    errors = np.subtract(predictions, y)\n",
        "    #print('errors= ', errors[:5])\n",
        "    sum_delta = (alpha / m) * X.transpose().dot(errors);\n",
        "    #print('sum_delta= ', sum_delta[:5])\n",
        "    theta = theta - sum_delta;\n",
        "\n",
        "    cost_history[i] = compute_cost(X, y, theta)  \n",
        "\n",
        "  return theta, cost_history"
      ],
      "execution_count": 0,
      "outputs": []
    },
    {
      "cell_type": "markdown",
      "metadata": {
        "id": "bGw9CvL4Dd2a",
        "colab_type": "text"
      },
      "source": [
        "Lets update the gradient descent learning parameters alpha and no of iterations"
      ]
    },
    {
      "cell_type": "code",
      "metadata": {
        "id": "k03r7g4AUcuU",
        "colab_type": "code",
        "colab": {}
      },
      "source": [
        "theta = [0., 0.]\n",
        "iterations = 1500;\n",
        "alpha = 0.01;"
      ],
      "execution_count": 0,
      "outputs": []
    },
    {
      "cell_type": "code",
      "metadata": {
        "id": "il4iDCl4UHor",
        "colab_type": "code",
        "outputId": "8fe34a91-94dc-40a2-f580-4ccf6b92981e",
        "colab": {
          "base_uri": "https://localhost:8080/",
          "height": 52
        }
      },
      "source": [
        "theta, cost_history = gradient_descent(X, y, theta, alpha, iterations)\n",
        "print('Final value of theta =', theta)\n",
        "print('cost_history =', cost_history)"
      ],
      "execution_count": 0,
      "outputs": [
        {
          "output_type": "stream",
          "text": [
            "Final value of theta = [-3.63029144  1.16636235]\n",
            "cost_history = [6.73719046 5.93159357 5.90115471 ... 4.48343473 4.48341145 4.48338826]\n"
          ],
          "name": "stdout"
        }
      ]
    },
    {
      "cell_type": "markdown",
      "metadata": {
        "id": "bpyepSH_rDeu",
        "colab_type": "text"
      },
      "source": [
        "## **Visualization**\n",
        "* Our algorithm returned the final values of theta, and as per our objective these values should give us best fit line\n",
        "* Lets plot the line using predicted values.\n",
        "* As per our vector implementation of hypothesis function we will get the predicted values using Xθ. Here θ is the value returned by our Gradient Descent Algorithm"
      ]
    },
    {
      "cell_type": "code",
      "metadata": {
        "id": "d56Lqn-vgPEq",
        "colab_type": "code",
        "outputId": "31657b2d-fd77-4e74-f18d-34cf72d26760",
        "colab": {
          "base_uri": "https://localhost:8080/",
          "height": 421
        }
      },
      "source": [
        "# Since X is list of list (feature matrix) lets take values of column of index 1 only\n",
        "plt.scatter(X[:,1], y, color='red', marker= '+', label= 'Training Data')\n",
        "plt.plot(X[:,1],X.dot(theta), color='green', label='Linear Regression')\n",
        "\n",
        "plt.rcParams[\"figure.figsize\"] = (10,6)\n",
        "plt.grid()\n",
        "plt.xlabel('Population of City in 10,000s')\n",
        "plt.ylabel('Profit in $10,000s')\n",
        "plt.title('Linear Regression Fit')\n",
        "plt.legend()"
      ],
      "execution_count": 0,
      "outputs": [
        {
          "output_type": "execute_result",
          "data": {
            "text/plain": [
              "<matplotlib.legend.Legend at 0x7fc74227ee80>"
            ]
          },
          "metadata": {
            "tags": []
          },
          "execution_count": 28
        },
        {
          "output_type": "display_data",
          "data": {
            "image/png": "[encoded data removed]",
            "text/plain": [
              "<Figure size 720x432 with 1 Axes>"
            ]
          },
          "metadata": {
            "tags": [],
            "needs_background": "light"
          }
        }
      ]
    },
    {
      "cell_type": "markdown",
      "metadata": {
        "id": "n1NTMagcrLNR",
        "colab_type": "text"
      },
      "source": [
        "## **Convergence of Gradient Descent**\n",
        "* cost_history contains the values of cost for every iteration performed during batch gradient descent\n",
        "* If all our parameters are correct then cost should reduce for every iteration(step)\n",
        "* lets plot the values of cost against no of iterations to visualize the performance of the Gradient Descent Algorithm\n",
        " \n",
        "\n"
      ]
    },
    {
      "cell_type": "code",
      "metadata": {
        "id": "CrnMdP89sFKV",
        "colab_type": "code",
        "outputId": "2d737b82-354b-468d-cea3-6508c21c048d",
        "colab": {
          "base_uri": "https://localhost:8080/",
          "height": 421
        }
      },
      "source": [
        "plt.plot(range(1, iterations + 1),cost_history, color='blue')\n",
        "plt.rcParams[\"figure.figsize\"] = (10,6)\n",
        "plt.grid()\n",
        "plt.xlabel('Number of iterations')\n",
        "plt.ylabel('Cost (J)')\n",
        "plt.title('Convergence of gradient descent')"
      ],
      "execution_count": 0,
      "outputs": [
        {
          "output_type": "execute_result",
          "data": {
            "text/plain": [
              "Text(0.5, 1.0, 'Convergence of gradient descent')"
            ]
          },
          "metadata": {
            "tags": []
          },
          "execution_count": 29
        },
        {
          "output_type": "display_data",
          "data": {
            "image/png": "[encoded data removed]",
            "text/plain": [
              "<Figure size 720x432 with 1 Axes>"
            ]
          },
          "metadata": {
            "tags": [],
            "needs_background": "light"
          }
        }
      ]
    },
    {
      "cell_type": "markdown",
      "metadata": {
        "id": "7gGk51xGtmGN",
        "colab_type": "text"
      },
      "source": [
        "## **Testing the model**\n",
        "* Predict the profit for population 35,000\n",
        "* Predict the profit for population 70,000\n",
        " \n",
        "### **Manual Calculations**\n",
        "* Generally 'theta' are referred as weights or coefficients.\n",
        "* Values of theta/weights/coefficients are [-3.63029144  1.16636235]\n",
        "* Hypothesis function is h(θ, x) = θ_0 * x_0 + θ_1 * x_1\n",
        "* Given values are\n",
        "  - θ_0 = -3.63029144,\n",
        "  - θ_1 = 1.16636235,\n",
        "  - x_0 = 1,\n",
        "  - x_1= 3.5 (remember all our values are in multiples ok 10,000)\n",
        " \n",
        "* h(x) = (-3.63029144 * 1) + (1.16636235 * 3.5)\n",
        "* h(x) = 0.4519767849999998\n",
        "* Since all our values are in multiples of 10,000\n",
        "* h(x) = 0.4519767849999998 * 10000\n",
        "* h(x) = 4519.767849999998\n",
        "* For population = 35,000, we predict a profit of 4519.7678677\n",
        " \n",
        "We can predict the result using our model as below\n",
        " \n",
        " \n",
        "\n"
      ]
    },
    {
      "cell_type": "code",
      "metadata": {
        "id": "tox0-33XsjMY",
        "colab_type": "code",
        "outputId": "47e39400-da91-4eb4-bc34-eb8eed59266a",
        "colab": {
          "base_uri": "https://localhost:8080/",
          "height": 52
        }
      },
      "source": [
        "predict1 = np.array([1, 3.5]).dot(theta)\n",
        "print(\"For population = 35,000, our prediction of profit is\", predict1 * 10000)\n",
        "\n",
        "predict2 = np.array([1, 7]).dot(theta)\n",
        "print(\"For population = 70,000, our prediction of profit is\", predict2 * 10000)"
      ],
      "execution_count": 0,
      "outputs": [
        {
          "output_type": "stream",
          "text": [
            "For population = 35,000, our prediction of profit is 4519.7678677017675\n",
            "For population = 70,000, our prediction of profit is 45342.45012944714\n"
          ],
          "name": "stdout"
        }
      ]
    }
  ]
}