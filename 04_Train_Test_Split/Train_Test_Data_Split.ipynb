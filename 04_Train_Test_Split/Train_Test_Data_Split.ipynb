{
  "nbformat": 4,
  "nbformat_minor": 0,
  "metadata": {
    "colab": {
      "name": "Train_Test_Data_Split.ipynb",
      "provenance": [],
      "collapsed_sections": [],
      "authorship_tag": "ABX9TyNCQWVEsSWM4ZxybiEZZWaA",
      "include_colab_link": true
    },
    "kernelspec": {
      "name": "python3",
      "display_name": "Python 3"
    }
  },
  "cells": [
    {
      "cell_type": "markdown",
      "metadata": {
        "id": "view-in-github",
        "colab_type": "text"
      },
      "source": [
        "<a href=\"https://colab.research.google.com/github/satishgunjal/Machine_Learning_Tutorials/blob/master/04_Train_Test_Split/Train_Test_Data_Split.ipynb\" target=\"_parent\"><img src=\"https://colab.research.google.com/assets/colab-badge.svg\" alt=\"Open In Colab\"/></a>"
      ]
    },
    {
      "cell_type": "markdown",
      "metadata": {
        "id": "ZmqYRqXOP-1r",
        "colab_type": "text"
      },
      "source": [
        "![train_test_split_header_640x480.png](https://raw.githubusercontent.com/satishgunjal/images/master/train_test_split_header_640x480.png)\n",
        " \n",
        "In machine learning we build model based on given data, but to test the performance of the model we also need test data. Technically we can use the same data for model performance testing but the results won't be reliable. Recommended way is to use the different set of data for model training and model performance testing. Datasets used for model training are called as 'Training Datasets' and datasets used for testing are called as 'Test Datasets'\n",
        " \n",
        " \n",
        "## Train and Test Datasets\n",
        "We usually do 80-20 split for training and test datasets. Its is also good practice to randomly sort the data before splitting into two datasets. We are going to use Sklearn library (model_selection.train_test_split) for splitting the datasets.\n",
        " \n",
        "![train_test_split.png](https://raw.githubusercontent.com/satishgunjal/images/master/train_test_split.png)\n",
        "\n"
      ]
    },
    {
      "cell_type": "markdown",
      "metadata": {
        "id": "59jincVPYedX",
        "colab_type": "text"
      },
      "source": [
        "## Python Code"
      ]
    },
    {
      "cell_type": "markdown",
      "metadata": {
        "id": "iTJ2JHzuYh_M",
        "colab_type": "text"
      },
      "source": [
        "### Import Libraries\n",
        "* pandas: Used for data manipulation and analysis.\n",
        "* train_test_split: Sklearn train_test_split is used to split the dataset\n",
        "* linear_model: Sklearn linear regression model\n",
        "\n"
      ]
    },
    {
      "cell_type": "code",
      "metadata": {
        "id": "K8MSivNyJZZo",
        "colab_type": "code",
        "colab": {}
      },
      "source": [
        "import pandas as pd\n",
        "from sklearn.model_selection import train_test_split\n",
        "from sklearn import linear_model"
      ],
      "execution_count": 0,
      "outputs": []
    },
    {
      "cell_type": "markdown",
      "metadata": {
        "id": "Lqb-6t1MYpsE",
        "colab_type": "text"
      },
      "source": [
        "### Import Dataset"
      ]
    },
    {
      "cell_type": "code",
      "metadata": {
        "id": "w4M370-LYrIY",
        "colab_type": "code",
        "colab": {
          "base_uri": "https://localhost:8080/",
          "height": 219
        },
        "outputId": "63ea25e5-3afb-44af-9fc3-031b3ceb6a58"
      },
      "source": [
        "df = pd.read_csv('https://raw.githubusercontent.com/satishgunjal/datasets/master/Fish_Weight_Train_Test_Split.csv')\n",
        "print('Dimension of dataset= ', df.shape)\n",
        "df.head(5) # Show first 5 training examples"
      ],
      "execution_count": 12,
      "outputs": [
        {
          "output_type": "stream",
          "text": [
            "Dimension of dataset=  (42, 3)\n"
          ],
          "name": "stdout"
        },
        {
          "output_type": "execute_result",
          "data": {
            "text/html": [
              "<div>\n",
              "<style scoped>\n",
              "    .dataframe tbody tr th:only-of-type {\n",
              "        vertical-align: middle;\n",
              "    }\n",
              "\n",
              "    .dataframe tbody tr th {\n",
              "        vertical-align: top;\n",
              "    }\n",
              "\n",
              "    .dataframe thead th {\n",
              "        text-align: right;\n",
              "    }\n",
              "</style>\n",
              "<table border=\"1\" class=\"dataframe\">\n",
              "  <thead>\n",
              "    <tr style=\"text-align: right;\">\n",
              "      <th></th>\n",
              "      <th>Weight</th>\n",
              "      <th>Height</th>\n",
              "      <th>Width</th>\n",
              "    </tr>\n",
              "  </thead>\n",
              "  <tbody>\n",
              "    <tr>\n",
              "      <th>0</th>\n",
              "      <td>242.0</td>\n",
              "      <td>11.5200</td>\n",
              "      <td>4.0200</td>\n",
              "    </tr>\n",
              "    <tr>\n",
              "      <th>1</th>\n",
              "      <td>290.0</td>\n",
              "      <td>12.4800</td>\n",
              "      <td>4.3056</td>\n",
              "    </tr>\n",
              "    <tr>\n",
              "      <th>2</th>\n",
              "      <td>340.0</td>\n",
              "      <td>12.3778</td>\n",
              "      <td>4.6961</td>\n",
              "    </tr>\n",
              "    <tr>\n",
              "      <th>3</th>\n",
              "      <td>363.0</td>\n",
              "      <td>12.7300</td>\n",
              "      <td>4.4555</td>\n",
              "    </tr>\n",
              "    <tr>\n",
              "      <th>4</th>\n",
              "      <td>450.0</td>\n",
              "      <td>13.6024</td>\n",
              "      <td>4.9274</td>\n",
              "    </tr>\n",
              "  </tbody>\n",
              "</table>\n",
              "</div>"
            ],
            "text/plain": [
              "   Weight   Height   Width\n",
              "0   242.0  11.5200  4.0200\n",
              "1   290.0  12.4800  4.3056\n",
              "2   340.0  12.3778  4.6961\n",
              "3   363.0  12.7300  4.4555\n",
              "4   450.0  13.6024  4.9274"
            ]
          },
          "metadata": {
            "tags": []
          },
          "execution_count": 12
        }
      ]
    },
    {
      "cell_type": "markdown",
      "metadata": {
        "id": "6dqVOL3ZZV0x",
        "colab_type": "text"
      },
      "source": [
        "### Understanding The Dataset\n",
        "* There are total 42 rows(training samples) and 4 columns in dataset.\n",
        "* Features/input values/independent variables are ‘Height’ and ‘Width’\n",
        "* Labels/Target/output value/dependent variable is ‘Weight’\n",
        " \n",
        "Let's create separate dataframe for features and labels. It is required for splitting the dataset."
      ]
    },
    {
      "cell_type": "code",
      "metadata": {
        "id": "WLH2VuyibuMJ",
        "colab_type": "code",
        "colab": {
          "base_uri": "https://localhost:8080/",
          "height": 202
        },
        "outputId": "87982eeb-1ea0-4612-90a9-95cf2ef817c0"
      },
      "source": [
        "X = df.drop(['Weight'], axis='columns')\n",
        "X.head(5)"
      ],
      "execution_count": 13,
      "outputs": [
        {
          "output_type": "execute_result",
          "data": {
            "text/html": [
              "<div>\n",
              "<style scoped>\n",
              "    .dataframe tbody tr th:only-of-type {\n",
              "        vertical-align: middle;\n",
              "    }\n",
              "\n",
              "    .dataframe tbody tr th {\n",
              "        vertical-align: top;\n",
              "    }\n",
              "\n",
              "    .dataframe thead th {\n",
              "        text-align: right;\n",
              "    }\n",
              "</style>\n",
              "<table border=\"1\" class=\"dataframe\">\n",
              "  <thead>\n",
              "    <tr style=\"text-align: right;\">\n",
              "      <th></th>\n",
              "      <th>Height</th>\n",
              "      <th>Width</th>\n",
              "    </tr>\n",
              "  </thead>\n",
              "  <tbody>\n",
              "    <tr>\n",
              "      <th>0</th>\n",
              "      <td>11.5200</td>\n",
              "      <td>4.0200</td>\n",
              "    </tr>\n",
              "    <tr>\n",
              "      <th>1</th>\n",
              "      <td>12.4800</td>\n",
              "      <td>4.3056</td>\n",
              "    </tr>\n",
              "    <tr>\n",
              "      <th>2</th>\n",
              "      <td>12.3778</td>\n",
              "      <td>4.6961</td>\n",
              "    </tr>\n",
              "    <tr>\n",
              "      <th>3</th>\n",
              "      <td>12.7300</td>\n",
              "      <td>4.4555</td>\n",
              "    </tr>\n",
              "    <tr>\n",
              "      <th>4</th>\n",
              "      <td>13.6024</td>\n",
              "      <td>4.9274</td>\n",
              "    </tr>\n",
              "  </tbody>\n",
              "</table>\n",
              "</div>"
            ],
            "text/plain": [
              "    Height   Width\n",
              "0  11.5200  4.0200\n",
              "1  12.4800  4.3056\n",
              "2  12.3778  4.6961\n",
              "3  12.7300  4.4555\n",
              "4  13.6024  4.9274"
            ]
          },
          "metadata": {
            "tags": []
          },
          "execution_count": 13
        }
      ]
    },
    {
      "cell_type": "code",
      "metadata": {
        "id": "XVyLgT2se7an",
        "colab_type": "code",
        "colab": {
          "base_uri": "https://localhost:8080/",
          "height": 121
        },
        "outputId": "8b73276c-567c-43c3-fbb1-dbc55e737e5a"
      },
      "source": [
        "y = df.Weight\n",
        "y.head()"
      ],
      "execution_count": 14,
      "outputs": [
        {
          "output_type": "execute_result",
          "data": {
            "text/plain": [
              "0    242.0\n",
              "1    290.0\n",
              "2    340.0\n",
              "3    363.0\n",
              "4    450.0\n",
              "Name: Weight, dtype: float64"
            ]
          },
          "metadata": {
            "tags": []
          },
          "execution_count": 14
        }
      ]
    },
    {
      "cell_type": "markdown",
      "metadata": {
        "id": "8YwhejRylsKc",
        "colab_type": "text"
      },
      "source": [
        "Now we have features and target variables ready, lets split the data into training and test datasets"
      ]
    },
    {
      "cell_type": "markdown",
      "metadata": {
        "id": "SkrpAkI5bwTk",
        "colab_type": "text"
      },
      "source": [
        "### Using Sklearn train_test_split Method\n",
        "* train_test_split() method takes three arguments input features, labels and test_size. \n",
        "* Test size determines the percentage of split. e.g. test_size = 0.2, means 80% training data and 20% test data.\n",
        "* random_state is optional argument.\n",
        "\n",
        "### What Is random_state\n",
        "* It is used for initializing the internal random number generator, which will decide the splitting of data into train and test datasets\n",
        "* Order of the data will be same for a particular value of random_state. For e.g. for 'random_state=1' no matter how many times you run the code you will get same data in training and test split\n",
        "* You can use any integer value for random_state. Just remember one thing if you don't pass any value, then it will use default value 'None' and split data randomly every time you execute the code.\n",
        "\n",
        "\n",
        " \n"
      ]
    },
    {
      "cell_type": "code",
      "metadata": {
        "id": "d1hjaCcqaBOO",
        "colab_type": "code",
        "colab": {
          "base_uri": "https://localhost:8080/",
          "height": 87
        },
        "outputId": "5d9c18b1-d54a-4883-d1b6-623b592c7144"
      },
      "source": [
        "X_train, X_test, y_train, y_test = train_test_split(X, y, test_size = 0.2, random_state = 1)\n",
        "\n",
        "print('X_train dimension= ', X_train.shape)\n",
        "print('X_test dimension= ', X_test.shape)\n",
        "print('y_train dimension= ', y_train.shape)\n",
        "print('y_train dimension= ', y_test.shape)"
      ],
      "execution_count": 25,
      "outputs": [
        {
          "output_type": "stream",
          "text": [
            "X_train dimension=  (33, 2)\n",
            "X_test dimension=  (9, 2)\n",
            "y_train dimension=  (33,)\n",
            "y_train dimension=  (9,)\n"
          ],
          "name": "stdout"
        }
      ]
    },
    {
      "cell_type": "markdown",
      "metadata": {
        "id": "SKQf5h20yb2q",
        "colab_type": "text"
      },
      "source": [
        "Lets visulaize the training and test data using scatter plot"
      ]
    },
    {
      "cell_type": "code",
      "metadata": {
        "id": "iPqy7VNYwdeB",
        "colab_type": "code",
        "colab": {
          "base_uri": "https://localhost:8080/",
          "height": 421
        },
        "outputId": "667cab2f-9a5c-4e8a-ff4f-570b98238cbd"
      },
      "source": [
        "import matplotlib.pyplot as plt\n",
        "plt.scatter(X_train.Height,y_train, color='blue', label='Training Data')\n",
        "plt.scatter(X_test.Height,y_test, color='orange', label='Test Data')\n",
        "plt.xlabel('Height')\n",
        "plt.ylabel('Weight')\n",
        "plt.title('Training Vs Test Data For Height Feature')\n",
        "plt.rcParams[\"figure.figsize\"] = (10,6)\n",
        "plt.legend()"
      ],
      "execution_count": 38,
      "outputs": [
        {
          "output_type": "execute_result",
          "data": {
            "text/plain": [
              "<matplotlib.legend.Legend at 0x7fbd84b9b828>"
            ]
          },
          "metadata": {
            "tags": []
          },
          "execution_count": 38
        },
        {
          "output_type": "display_data",
          "data": {
            "image/png": "[encoded data removed]",
            "text/plain": [
              "<Figure size 720x432 with 1 Axes>"
            ]
          },
          "metadata": {
            "tags": [],
            "needs_background": "light"
          }
        }
      ]
    },
    {
      "cell_type": "markdown",
      "metadata": {
        "id": "6G9b1Dd9lNOp",
        "colab_type": "text"
      },
      "source": [
        "### What Is random_state\n",
        "* It is used for initializing the internal random number generator, which will decide the splitting of data into train and test datasets\n",
        "* Order of the data will be same for a particular value of random_state. For e.g. for 'random_state=1' no matter how many times you run the code you will get same data in training and test split\n",
        "* You can use any integer value for random_state. Just remember one thing if you don't pass any value, then it will use default value 'None' and split data randomly every time you execute the code.\n",
        " \n",
        "\n"
      ]
    },
    {
      "cell_type": "markdown",
      "metadata": {
        "id": "wiIr-KgXnW4o",
        "colab_type": "text"
      },
      "source": [
        "### Linear Model Training Using Training Dataset\n",
        "Since we have training and test dataset ready, lets use training dataset for linear model training."
      ]
    },
    {
      "cell_type": "code",
      "metadata": {
        "id": "uF4EFwdPk3gF",
        "colab_type": "code",
        "colab": {
          "base_uri": "https://localhost:8080/",
          "height": 35
        },
        "outputId": "9a3d870b-1eb8-4d17-a30f-9de98dd2cdfe"
      },
      "source": [
        "lm = linear_model.LinearRegression()\n",
        "lm.fit(X_train, y_train)"
      ],
      "execution_count": 26,
      "outputs": [
        {
          "output_type": "execute_result",
          "data": {
            "text/plain": [
              "LinearRegression(copy_X=True, fit_intercept=True, n_jobs=None, normalize=False)"
            ]
          },
          "metadata": {
            "tags": []
          },
          "execution_count": 26
        }
      ]
    },
    {
      "cell_type": "markdown",
      "metadata": {
        "id": "IPdSfqRjnzQr",
        "colab_type": "text"
      },
      "source": [
        "### Linear Model Testing Using Test Dataset\n",
        "Lets use test dataset for linear model performance testing."
      ]
    },
    {
      "cell_type": "code",
      "metadata": {
        "id": "96N6U7mLoFAd",
        "colab_type": "code",
        "colab": {
          "base_uri": "https://localhost:8080/",
          "height": 35
        },
        "outputId": "8843c494-faad-4e8c-b73a-8ee60dd17d61"
      },
      "source": [
        "lm.score(X_test, y_test)"
      ],
      "execution_count": 27,
      "outputs": [
        {
          "output_type": "execute_result",
          "data": {
            "text/plain": [
              "0.7153810385773975"
            ]
          },
          "metadata": {
            "tags": []
          },
          "execution_count": 27
        }
      ]
    },
    {
      "cell_type": "markdown",
      "metadata": {
        "id": "1kDj7o45p4mz",
        "colab_type": "text"
      },
      "source": [
        "### Linear Model Testing Using Training Dataset\n",
        "Lets use training dataset for linear model performance testing. Notice the difference in performance score."
      ]
    },
    {
      "cell_type": "code",
      "metadata": {
        "id": "JWCWyhRxolO2",
        "colab_type": "code",
        "colab": {
          "base_uri": "https://localhost:8080/",
          "height": 35
        },
        "outputId": "98320ca4-e716-4c3a-ce85-862fe83783e2"
      },
      "source": [
        "lm.score(X_train, y_train)"
      ],
      "execution_count": 28,
      "outputs": [
        {
          "output_type": "execute_result",
          "data": {
            "text/plain": [
              "0.8488919680474343"
            ]
          },
          "metadata": {
            "tags": []
          },
          "execution_count": 28
        }
      ]
    },
    {
      "cell_type": "markdown",
      "metadata": {
        "id": "zQED7gLeoie3",
        "colab_type": "text"
      },
      "source": [
        "### Never Test On Training Data\n",
        "* As you can notice score with training data is higher than score with test data.\n",
        "* Higher score is misleading in this case.\n",
        "* Model which dont use separate dataset for testing may have higher performance score but it wont generalize well and give misleading predictions with real world data."
      ]
    },
    {
      "cell_type": "markdown",
      "metadata": {
        "id": "ahGKsRadrJ1s",
        "colab_type": "text"
      },
      "source": [
        "Hence, forward in all the tutorials we are going to use training and test dataset for model training and testing."
      ]
    }
  ]
}