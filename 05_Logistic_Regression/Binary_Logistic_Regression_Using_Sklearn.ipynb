{
  "nbformat": 4,
  "nbformat_minor": 0,
  "metadata": {
    "colab": {
      "name": "Binary_Logistic_Regression_Using_Sklearn.ipynb",
      "provenance": [],
      "collapsed_sections": [],
      "authorship_tag": "ABX9TyMoPq957jhAx0sMWGJb8qPL",
      "include_colab_link": true
    },
    "kernelspec": {
      "name": "python3",
      "display_name": "Python 3"
    }
  },
  "cells": [
    {
      "cell_type": "markdown",
      "metadata": {
        "id": "view-in-github",
        "colab_type": "text"
      },
      "source": [
        "<a href=\"https://colab.research.google.com/github/satishgunjal/Machine_Learning_Tutorials/blob/master/05_Logistic_Regression/Binary_Logistic_Regression_Using_Sklearn.ipynb\" target=\"_parent\"><img src=\"https://colab.research.google.com/assets/colab-badge.svg\" alt=\"Open In Colab\"/></a>"
      ]
    },
    {
      "cell_type": "markdown",
      "metadata": {
        "id": "np1bAp42ERrU",
        "colab_type": "text"
      },
      "source": [
        "![logistic_regression_sklearn_header.png](https://raw.githubusercontent.com/satishgunjal/images/master/logistic_regression_sklearn_header.png)\n",
        "\n",
        "In this tutorial we are going to use the Logistic Model from Sklearn library. We are also going to use the same test data used in [Logistic Regression From Scratch With Python](https://satishgunjal.github.io/binary_lr/) tutorial"
      ]
    },
    {
      "cell_type": "markdown",
      "metadata": {
        "id": "Fndd9NaXFDN_",
        "colab_type": "text"
      },
      "source": [
        "## Introduction\n",
        "Scikit-learn is one of the most popular open source machine learning library for python. It provides range of machine learning models, here we are going to use logistic regression linear model for classification. Sklearn logistic regression supports binary as well as multi class classification, in this study we are going to work on binary classification.\n",
        "\n",
        "The way we have implemented our own cost function and used advanced optimization technique for cost function optimization in [Logistic Regression From Scratch With Python](https://satishgunjal.github.io/binary_lr/) tutorial, every sklearn algorithm also have cost function and optimization objective."
      ]
    },
    {
      "cell_type": "markdown",
      "metadata": {
        "id": "nO1E6gDUIfHx",
        "colab_type": "text"
      },
      "source": [
        "# Python Code\n",
        "\n",
        "Now we will implement the Logistic regression algorithm in Python and build a classification model that estimates an applicant's probability of admission based on Exam 1 and Exam 2 scores."
      ]
    },
    {
      "cell_type": "markdown",
      "metadata": {
        "id": "80wuJcLVJgMB",
        "colab_type": "text"
      },
      "source": [
        "## Import Libraries\n",
        "* pandas: Used for data manipulation and analysis\n",
        "* numpy : Numpy is the core library for scientific computing in Python. It is used for working with arrays and matrices.\n",
        "* matplotlib : It's plotting library, and we are going to use it for data visualization\n",
        "* model_selection: Here we are going to use train_test_split() class\n",
        "* linear_model: Here we are going to LogisticRegression() class\n",
        " \n",
        "\n"
      ]
    },
    {
      "cell_type": "code",
      "metadata": {
        "id": "uTX9xYVtDF-m",
        "colab_type": "code",
        "colab": {}
      },
      "source": [
        "import pandas as pd\n",
        "import numpy as np\n",
        "import matplotlib.pyplot as plt\n",
        "from sklearn import model_selection \n",
        "from sklearn import linear_model"
      ],
      "execution_count": 0,
      "outputs": []
    },
    {
      "cell_type": "markdown",
      "metadata": {
        "id": "MAJxkGgGJyQg",
        "colab_type": "text"
      },
      "source": [
        "## Load The Data\n",
        "* We are going to use 'admission_basedon_exam_scores.csv' CSV file\n",
        "* File contains three columns \tExam 1 marks,\tExam 2 marks and\tAdmission status"
      ]
    },
    {
      "cell_type": "code",
      "metadata": {
        "id": "4gXxNEIPJz8c",
        "colab_type": "code",
        "colab": {
          "base_uri": "https://localhost:8080/",
          "height": 237
        },
        "outputId": "8e730bda-b694-4653-c59c-984f9d148549"
      },
      "source": [
        "df = pd.read_csv('https://raw.githubusercontent.com/satishgunjal/datasets/master/admission_basedon_exam_scores.csv')\n",
        "m, n = df.shape\n",
        "print('Number of training examples = ', m)\n",
        "print('Number of features = ', n - 1) # Not counting the 'Label: Admission status'\n",
        "df.sample(5) # Show random 5 training examples"
      ],
      "execution_count": 2,
      "outputs": [
        {
          "output_type": "stream",
          "text": [
            "Number of training examples =  100\n",
            "Number of features =  2\n"
          ],
          "name": "stdout"
        },
        {
          "output_type": "execute_result",
          "data": {
            "text/html": [
              "<div>\n",
              "<style scoped>\n",
              "    .dataframe tbody tr th:only-of-type {\n",
              "        vertical-align: middle;\n",
              "    }\n",
              "\n",
              "    .dataframe tbody tr th {\n",
              "        vertical-align: top;\n",
              "    }\n",
              "\n",
              "    .dataframe thead th {\n",
              "        text-align: right;\n",
              "    }\n",
              "</style>\n",
              "<table border=\"1\" class=\"dataframe\">\n",
              "  <thead>\n",
              "    <tr style=\"text-align: right;\">\n",
              "      <th></th>\n",
              "      <th>Exam 1 marks</th>\n",
              "      <th>Exam 2 marks</th>\n",
              "      <th>Admission status</th>\n",
              "    </tr>\n",
              "  </thead>\n",
              "  <tbody>\n",
              "    <tr>\n",
              "      <th>26</th>\n",
              "      <td>80.190181</td>\n",
              "      <td>44.821629</td>\n",
              "      <td>1</td>\n",
              "    </tr>\n",
              "    <tr>\n",
              "      <th>76</th>\n",
              "      <td>47.264269</td>\n",
              "      <td>88.475865</td>\n",
              "      <td>1</td>\n",
              "    </tr>\n",
              "    <tr>\n",
              "      <th>25</th>\n",
              "      <td>62.271014</td>\n",
              "      <td>69.954458</td>\n",
              "      <td>1</td>\n",
              "    </tr>\n",
              "    <tr>\n",
              "      <th>81</th>\n",
              "      <td>94.834507</td>\n",
              "      <td>45.694307</td>\n",
              "      <td>1</td>\n",
              "    </tr>\n",
              "    <tr>\n",
              "      <th>91</th>\n",
              "      <td>90.448551</td>\n",
              "      <td>87.508792</td>\n",
              "      <td>1</td>\n",
              "    </tr>\n",
              "  </tbody>\n",
              "</table>\n",
              "</div>"
            ],
            "text/plain": [
              "    Exam 1 marks  Exam 2 marks  Admission status\n",
              "26     80.190181     44.821629                 1\n",
              "76     47.264269     88.475865                 1\n",
              "25     62.271014     69.954458                 1\n",
              "81     94.834507     45.694307                 1\n",
              "91     90.448551     87.508792                 1"
            ]
          },
          "metadata": {
            "tags": []
          },
          "execution_count": 2
        }
      ]
    },
    {
      "cell_type": "markdown",
      "metadata": {
        "id": "mz7L4U0PJ7-S",
        "colab_type": "text"
      },
      "source": [
        "## Data Understanding\n",
        "* There are total 100 training examples (m= 100 or 100 no of rows)\n",
        "* There are two features Exam 1 marks and Exam 2 marks\n",
        "* Label column contains application status. Where '1' means admitted and '0' means not admitted\n",
        "\n"
      ]
    },
    {
      "cell_type": "markdown",
      "metadata": {
        "id": "rgHDLymMKDoc",
        "colab_type": "text"
      },
      "source": [
        "## Data Visualization\n",
        "\n",
        "To plot the data of admitted and not admitted applicants, we need to first create separate data frame for each class(admitted/not-admitted)\n"
      ]
    },
    {
      "cell_type": "code",
      "metadata": {
        "id": "sGY-nzr3KKua",
        "colab_type": "code",
        "colab": {
          "base_uri": "https://localhost:8080/",
          "height": 219
        },
        "outputId": "0b4bdad2-575c-4376-ffb6-bcc17f728a3f"
      },
      "source": [
        "df_admitted = df[df['Admission status'] == 1]\n",
        "print('Dimension of df_admitted= ', df_admitted.shape)\n",
        "df_admitted.sample(5)"
      ],
      "execution_count": 3,
      "outputs": [
        {
          "output_type": "stream",
          "text": [
            "Dimension of df_admitted=  (60, 3)\n"
          ],
          "name": "stdout"
        },
        {
          "output_type": "execute_result",
          "data": {
            "text/html": [
              "<div>\n",
              "<style scoped>\n",
              "    .dataframe tbody tr th:only-of-type {\n",
              "        vertical-align: middle;\n",
              "    }\n",
              "\n",
              "    .dataframe tbody tr th {\n",
              "        vertical-align: top;\n",
              "    }\n",
              "\n",
              "    .dataframe thead th {\n",
              "        text-align: right;\n",
              "    }\n",
              "</style>\n",
              "<table border=\"1\" class=\"dataframe\">\n",
              "  <thead>\n",
              "    <tr style=\"text-align: right;\">\n",
              "      <th></th>\n",
              "      <th>Exam 1 marks</th>\n",
              "      <th>Exam 2 marks</th>\n",
              "      <th>Admission status</th>\n",
              "    </tr>\n",
              "  </thead>\n",
              "  <tbody>\n",
              "    <tr>\n",
              "      <th>96</th>\n",
              "      <td>42.261701</td>\n",
              "      <td>87.103851</td>\n",
              "      <td>1</td>\n",
              "    </tr>\n",
              "    <tr>\n",
              "      <th>83</th>\n",
              "      <td>57.238706</td>\n",
              "      <td>59.514282</td>\n",
              "      <td>1</td>\n",
              "    </tr>\n",
              "    <tr>\n",
              "      <th>85</th>\n",
              "      <td>68.468522</td>\n",
              "      <td>85.594307</td>\n",
              "      <td>1</td>\n",
              "    </tr>\n",
              "    <tr>\n",
              "      <th>59</th>\n",
              "      <td>71.796462</td>\n",
              "      <td>78.453562</td>\n",
              "      <td>1</td>\n",
              "    </tr>\n",
              "    <tr>\n",
              "      <th>88</th>\n",
              "      <td>78.635424</td>\n",
              "      <td>96.647427</td>\n",
              "      <td>1</td>\n",
              "    </tr>\n",
              "  </tbody>\n",
              "</table>\n",
              "</div>"
            ],
            "text/plain": [
              "    Exam 1 marks  Exam 2 marks  Admission status\n",
              "96     42.261701     87.103851                 1\n",
              "83     57.238706     59.514282                 1\n",
              "85     68.468522     85.594307                 1\n",
              "59     71.796462     78.453562                 1\n",
              "88     78.635424     96.647427                 1"
            ]
          },
          "metadata": {
            "tags": []
          },
          "execution_count": 3
        }
      ]
    },
    {
      "cell_type": "code",
      "metadata": {
        "id": "zbaoJPjRKNRn",
        "colab_type": "code",
        "colab": {
          "base_uri": "https://localhost:8080/",
          "height": 219
        },
        "outputId": "ef556250-f8ea-4f67-f1cc-325a460dd9fb"
      },
      "source": [
        "df_notadmitted = df[df['Admission status'] == 0]\n",
        "print('Dimension of df_notadmitted= ', df_notadmitted.shape)\n",
        "df_notadmitted.sample(5)"
      ],
      "execution_count": 4,
      "outputs": [
        {
          "output_type": "stream",
          "text": [
            "Dimension of df_notadmitted=  (40, 3)\n"
          ],
          "name": "stdout"
        },
        {
          "output_type": "execute_result",
          "data": {
            "text/html": [
              "<div>\n",
              "<style scoped>\n",
              "    .dataframe tbody tr th:only-of-type {\n",
              "        vertical-align: middle;\n",
              "    }\n",
              "\n",
              "    .dataframe tbody tr th {\n",
              "        vertical-align: top;\n",
              "    }\n",
              "\n",
              "    .dataframe thead th {\n",
              "        text-align: right;\n",
              "    }\n",
              "</style>\n",
              "<table border=\"1\" class=\"dataframe\">\n",
              "  <thead>\n",
              "    <tr style=\"text-align: right;\">\n",
              "      <th></th>\n",
              "      <th>Exam 1 marks</th>\n",
              "      <th>Exam 2 marks</th>\n",
              "      <th>Admission status</th>\n",
              "    </tr>\n",
              "  </thead>\n",
              "  <tbody>\n",
              "    <tr>\n",
              "      <th>29</th>\n",
              "      <td>38.785804</td>\n",
              "      <td>64.995681</td>\n",
              "      <td>0</td>\n",
              "    </tr>\n",
              "    <tr>\n",
              "      <th>64</th>\n",
              "      <td>44.668262</td>\n",
              "      <td>66.450086</td>\n",
              "      <td>0</td>\n",
              "    </tr>\n",
              "    <tr>\n",
              "      <th>35</th>\n",
              "      <td>54.635106</td>\n",
              "      <td>52.213886</td>\n",
              "      <td>0</td>\n",
              "    </tr>\n",
              "    <tr>\n",
              "      <th>92</th>\n",
              "      <td>55.482161</td>\n",
              "      <td>35.570703</td>\n",
              "      <td>0</td>\n",
              "    </tr>\n",
              "    <tr>\n",
              "      <th>61</th>\n",
              "      <td>35.286113</td>\n",
              "      <td>47.020514</td>\n",
              "      <td>0</td>\n",
              "    </tr>\n",
              "  </tbody>\n",
              "</table>\n",
              "</div>"
            ],
            "text/plain": [
              "    Exam 1 marks  Exam 2 marks  Admission status\n",
              "29     38.785804     64.995681                 0\n",
              "64     44.668262     66.450086                 0\n",
              "35     54.635106     52.213886                 0\n",
              "92     55.482161     35.570703                 0\n",
              "61     35.286113     47.020514                 0"
            ]
          },
          "metadata": {
            "tags": []
          },
          "execution_count": 4
        }
      ]
    },
    {
      "cell_type": "markdown",
      "metadata": {
        "id": "33the4a4KPU4",
        "colab_type": "text"
      },
      "source": [
        "Now lets plot the scatter plot for admitted and not admitted students"
      ]
    },
    {
      "cell_type": "code",
      "metadata": {
        "id": "yftkpBhGKRtK",
        "colab_type": "code",
        "colab": {
          "base_uri": "https://localhost:8080/",
          "height": 421
        },
        "outputId": "9bd00520-182c-4a68-90be-cef4b05e615f"
      },
      "source": [
        "plt.figure(figsize = (10,6))\n",
        "plt.scatter(df_admitted['Exam 1 marks'], df_admitted['Exam 2 marks'], color='green', label='Admitted Applicants')\n",
        "plt.scatter(df_notadmitted['Exam 1 marks'], df_notadmitted['Exam 2 marks'], color='red', label='Not Admitted Applicants')\n",
        "plt.xlabel('Exam 1 Marks')\n",
        "plt.ylabel('Exam 2 Marks')\n",
        "plt.legend()\n",
        "plt.title('Admitted Vs Not Admitted Applicants')"
      ],
      "execution_count": 12,
      "outputs": [
        {
          "output_type": "execute_result",
          "data": {
            "text/plain": [
              "Text(0.5, 1.0, 'Admitted Vs Not Admitted Applicants')"
            ]
          },
          "metadata": {
            "tags": []
          },
          "execution_count": 12
        },
        {
          "output_type": "display_data",
          "data": {
            "image/png": "[encoded data removed]",
            "text/plain": [
              "<Figure size 720x432 with 1 Axes>"
            ]
          },
          "metadata": {
            "tags": [],
            "needs_background": "light"
          }
        }
      ]
    },
    {
      "cell_type": "markdown",
      "metadata": {
        "id": "FUkkC_CbLAaC",
        "colab_type": "text"
      },
      "source": [
        "## Build Machine Learning Model"
      ]
    },
    {
      "cell_type": "markdown",
      "metadata": {
        "id": "ewByAAGqLIgi",
        "colab_type": "text"
      },
      "source": [
        "## Create Feature Matrix X and Label Vector y"
      ]
    },
    {
      "cell_type": "code",
      "metadata": {
        "id": "Nbaz2IY1LPf5",
        "colab_type": "code",
        "colab": {}
      },
      "source": [
        "# Get feature columns from datframe\n",
        "X = df.iloc[:, 0:2]\n",
        "y = df.iloc[:, -1]"
      ],
      "execution_count": 0,
      "outputs": []
    },
    {
      "cell_type": "markdown",
      "metadata": {
        "id": "JkBecVswPbOE",
        "colab_type": "text"
      },
      "source": [
        "## Create Test And Train Dataset\n",
        "* We will split the dataset, so that we can use one set of data for training the model and one set of data for testing the model\n",
        "* We will keep 20% of data for testing and 80% of data for training the model\n",
        "* If you want to learn more about it, please refer [Train Test Split](https://satishgunjal.com/train_test_split/) tutorial\n",
        " \n",
        "\n"
      ]
    },
    {
      "cell_type": "code",
      "metadata": {
        "id": "U-2Y5ckeL1y0",
        "colab_type": "code",
        "colab": {
          "base_uri": "https://localhost:8080/",
          "height": 87
        },
        "outputId": "ddc889e8-d1bf-4f4f-baa6-e61d928733e7"
      },
      "source": [
        "X_train, X_test, y_train, y_test = model_selection.train_test_split(X, y, test_size=0.2)\n",
        "\n",
        "print('X_train dimension= ', X_train.shape)\n",
        "print('X_test dimension= ', X_test.shape)\n",
        "print('y_train dimension= ', y_train.shape)\n",
        "print('y_train dimension= ', y_test.shape)"
      ],
      "execution_count": 46,
      "outputs": [
        {
          "output_type": "stream",
          "text": [
            "X_train dimension=  (80, 2)\n",
            "X_test dimension=  (20, 2)\n",
            "y_train dimension=  (80,)\n",
            "y_train dimension=  (20,)\n"
          ],
          "name": "stdout"
        }
      ]
    },
    {
      "cell_type": "markdown",
      "metadata": {
        "id": "aZx4LLqaQxe6",
        "colab_type": "text"
      },
      "source": [
        "## Sklearn Logistic Regression"
      ]
    },
    {
      "cell_type": "code",
      "metadata": {
        "id": "XbXG93WMQz1s",
        "colab_type": "code",
        "colab": {
          "base_uri": "https://localhost:8080/",
          "height": 104
        },
        "outputId": "0910fb19-9835-4274-c5a6-6b748dee1aa9"
      },
      "source": [
        "lm = linear_model.LogisticRegression()\n",
        "# Training the model using training data\n",
        "lm.fit(X_train, y_train)"
      ],
      "execution_count": 48,
      "outputs": [
        {
          "output_type": "execute_result",
          "data": {
            "text/plain": [
              "LogisticRegression(C=1.0, class_weight=None, dual=False, fit_intercept=True,\n",
              "                   intercept_scaling=1, l1_ratio=None, max_iter=100,\n",
              "                   multi_class='auto', n_jobs=None, penalty='l2',\n",
              "                   random_state=None, solver='lbfgs', tol=0.0001, verbose=0,\n",
              "                   warm_start=False)"
            ]
          },
          "metadata": {
            "tags": []
          },
          "execution_count": 48
        }
      ]
    },
    {
      "cell_type": "markdown",
      "metadata": {
        "id": "9xlzIPFYkg4k",
        "colab_type": "text"
      },
      "source": [
        "## Visualization\n",
        "* Let's plot decision boundary to cross-check the accuracy of our model\n",
        "* I am using code from sklearns site. [Reference](https://scikit-learn.org/stable/auto_examples/linear_model/plot_iris_logistic.html)"
      ]
    },
    {
      "cell_type": "code",
      "metadata": {
        "id": "EQ8fofKLkkVP",
        "colab_type": "code",
        "colab": {}
      },
      "source": [
        "def plot_decision_boundary(X, Y, X_label, Y_label):\n",
        "  \"\"\"\n",
        "  Plot decision boundary based on results from sklearn logistic regression algorithm\n",
        "\n",
        "  I/P\n",
        "  ----------\n",
        "  X : 2D array where each row represent the training example and each column represent the feature ndarray.\n",
        "      m= number of training examples\n",
        "      n= number of features\n",
        "  y : 1D array of labels/target value for each traing example.\n",
        "\n",
        "  O/P\n",
        "  -------\n",
        "  Plots the decision boundary\n",
        "  \"\"\"\n",
        "  logreg = linear_model.LogisticRegression(C=1e5)\n",
        "\n",
        "  # Create an instance of Logistic Regression Classifier and fit the data.\n",
        "  logreg.fit(X, Y)\n",
        "\n",
        "  # Plot the decision boundary. For that, we will assign a color to each\n",
        "  # point in the mesh [x_min, x_max]x[y_min, y_max].\n",
        "  x_min, x_max = X[:, 0].min() - .5, X[:, 0].max() + .5\n",
        "  y_min, y_max = X[:, 1].min() - .5, X[:, 1].max() + .5\n",
        "  h = .02  # step size in the mesh\n",
        "  xx, yy = np.meshgrid(np.arange(x_min, x_max, h), np.arange(y_min, y_max, h))\n",
        "  Z = logreg.predict(np.c_[xx.ravel(), yy.ravel()])\n",
        "\n",
        "  # Put the result into a color plot\n",
        "  Z = Z.reshape(xx.shape)\n",
        "  plt.figure(1, figsize=(10, 6))\n",
        "  plt.pcolormesh(xx, yy, Z, cmap=plt.cm.Paired)\n",
        "\n",
        "  # Plot also the training points\n",
        "  plt.scatter(X[:, 0], X[:, 1], c=Y, edgecolors='k', cmap=plt.cm.Paired)\n",
        "  plt.xlabel(X_label)\n",
        "  plt.ylabel(Y_label)\n",
        "\n",
        "  plt.xlim(xx.min(), xx.max())\n",
        "  plt.ylim(yy.min(), yy.max())\n",
        "  plt.xticks(())\n",
        "  plt.yticks(())\n",
        "\n",
        "  plt.title(\"Decision Boundary\")\n",
        "  plt.show()"
      ],
      "execution_count": 0,
      "outputs": []
    },
    {
      "cell_type": "code",
      "metadata": {
        "id": "8RwBgvdznSS8",
        "colab_type": "code",
        "colab": {
          "base_uri": "https://localhost:8080/",
          "height": 387
        },
        "outputId": "37e107c9-b813-426c-821c-e941022da911"
      },
      "source": [
        "plot_decision_boundary(X_train.values, y_train.values, \"Exam 1 marks\", \"Exam 2 marks\")"
      ],
      "execution_count": 101,
      "outputs": [
        {
          "output_type": "display_data",
          "data": {
            "image/png": "[encoded data removed]",
            "text/plain": [
              "<Figure size 720x432 with 1 Axes>"
            ]
          },
          "metadata": {
            "tags": []
          }
        }
      ]
    },
    {
      "cell_type": "markdown",
      "metadata": {
        "id": "IRVMNJWnRwo2",
        "colab_type": "text"
      },
      "source": [
        "## Testing The Model\n",
        "* For testing we are going to use the test data only\n",
        "* **Question: Predict an admission probability for applicant with scores 45 in Exam 1 and 85 in Exam 2**"
      ]
    },
    {
      "cell_type": "code",
      "metadata": {
        "id": "pQrhIj2iRyed",
        "colab_type": "code",
        "colab": {
          "base_uri": "https://localhost:8080/",
          "height": 35
        },
        "outputId": "39089ab3-6e46-41c0-cd10-d1afa9cc6481"
      },
      "source": [
        "# Input data should be 2D array\n",
        "prob = lm.predict_proba([[45, 85]])\n",
        "print ('Probability of getting admission is %s, and probability of not getting admission is %s' % (prob[:,1], prob[:,0]))"
      ],
      "execution_count": 84,
      "outputs": [
        {
          "output_type": "stream",
          "text": [
            "Probability of getting admission is [0.74012176], and probability of not getting admission is [0.25987824]\n"
          ],
          "name": "stdout"
        }
      ]
    },
    {
      "cell_type": "markdown",
      "metadata": {
        "id": "VoLFEzWCZZUP",
        "colab_type": "text"
      },
      "source": [
        "## Accuracy Of Model"
      ]
    },
    {
      "cell_type": "code",
      "metadata": {
        "id": "JNdqxRyDSSVA",
        "colab_type": "code",
        "colab": {
          "base_uri": "https://localhost:8080/",
          "height": 110
        },
        "outputId": "753846f4-c42c-4f1d-e705-a5e1a840a149"
      },
      "source": [
        "predictedAdmissionStatus= pd.DataFrame(lm.predict(X_test), columns=['Predicted Admission status'])\n",
        "actualAdmissionStatus = pd.DataFrame(y_test, columns=['Admission status'])\n",
        "actualAdmissionStatus = actualAdmissionStatus.reset_index(drop=True) # Drop the index so that we can concat it, to create new dataframe\n",
        "df_actual_vs_predicted = pd.concat([actualAdmissionStatus,predictedAdmissionStatus],axis =1)\n",
        "df_actual_vs_predicted.T"
      ],
      "execution_count": 65,
      "outputs": [
        {
          "output_type": "execute_result",
          "data": {
            "text/html": [
              "<div>\n",
              "<style scoped>\n",
              "    .dataframe tbody tr th:only-of-type {\n",
              "        vertical-align: middle;\n",
              "    }\n",
              "\n",
              "    .dataframe tbody tr th {\n",
              "        vertical-align: top;\n",
              "    }\n",
              "\n",
              "    .dataframe thead th {\n",
              "        text-align: right;\n",
              "    }\n",
              "</style>\n",
              "<table border=\"1\" class=\"dataframe\">\n",
              "  <thead>\n",
              "    <tr style=\"text-align: right;\">\n",
              "      <th></th>\n",
              "      <th>0</th>\n",
              "      <th>1</th>\n",
              "      <th>2</th>\n",
              "      <th>3</th>\n",
              "      <th>4</th>\n",
              "      <th>5</th>\n",
              "      <th>6</th>\n",
              "      <th>7</th>\n",
              "      <th>8</th>\n",
              "      <th>9</th>\n",
              "      <th>10</th>\n",
              "      <th>11</th>\n",
              "      <th>12</th>\n",
              "      <th>13</th>\n",
              "      <th>14</th>\n",
              "      <th>15</th>\n",
              "      <th>16</th>\n",
              "      <th>17</th>\n",
              "      <th>18</th>\n",
              "      <th>19</th>\n",
              "    </tr>\n",
              "  </thead>\n",
              "  <tbody>\n",
              "    <tr>\n",
              "      <th>Admission status</th>\n",
              "      <td>0</td>\n",
              "      <td>1</td>\n",
              "      <td>0</td>\n",
              "      <td>1</td>\n",
              "      <td>1</td>\n",
              "      <td>0</td>\n",
              "      <td>1</td>\n",
              "      <td>1</td>\n",
              "      <td>1</td>\n",
              "      <td>1</td>\n",
              "      <td>0</td>\n",
              "      <td>1</td>\n",
              "      <td>0</td>\n",
              "      <td>0</td>\n",
              "      <td>1</td>\n",
              "      <td>0</td>\n",
              "      <td>1</td>\n",
              "      <td>0</td>\n",
              "      <td>1</td>\n",
              "      <td>0</td>\n",
              "    </tr>\n",
              "    <tr>\n",
              "      <th>Predicted Admission status</th>\n",
              "      <td>1</td>\n",
              "      <td>1</td>\n",
              "      <td>0</td>\n",
              "      <td>1</td>\n",
              "      <td>1</td>\n",
              "      <td>1</td>\n",
              "      <td>1</td>\n",
              "      <td>1</td>\n",
              "      <td>1</td>\n",
              "      <td>1</td>\n",
              "      <td>0</td>\n",
              "      <td>1</td>\n",
              "      <td>0</td>\n",
              "      <td>0</td>\n",
              "      <td>1</td>\n",
              "      <td>1</td>\n",
              "      <td>1</td>\n",
              "      <td>0</td>\n",
              "      <td>0</td>\n",
              "      <td>0</td>\n",
              "    </tr>\n",
              "  </tbody>\n",
              "</table>\n",
              "</div>"
            ],
            "text/plain": [
              "                            0   1   2   3   4   5   6   ...  13  14  15  16  17  18  19\n",
              "Admission status             0   1   0   1   1   0   1  ...   0   1   0   1   0   1   0\n",
              "Predicted Admission status   1   1   0   1   1   1   1  ...   0   1   1   1   0   0   0\n",
              "\n",
              "[2 rows x 20 columns]"
            ]
          },
          "metadata": {
            "tags": []
          },
          "execution_count": 65
        }
      ]
    },
    {
      "cell_type": "markdown",
      "metadata": {
        "id": "wJZtI3dUbXI9",
        "colab_type": "text"
      },
      "source": [
        "## Probability For Entire Test Set\n",
        "Probability output  contains two columns, first column represent probability of negative class(0) and second column represent the probability of positive class(1)"
      ]
    },
    {
      "cell_type": "code",
      "metadata": {
        "id": "y3FQz8mWbdHa",
        "colab_type": "code",
        "colab": {
          "base_uri": "https://localhost:8080/",
          "height": 364
        },
        "outputId": "65804f06-905c-48f2-8b63-d8ee8af989a3"
      },
      "source": [
        "lm.predict_proba(X_test)"
      ],
      "execution_count": 86,
      "outputs": [
        {
          "output_type": "execute_result",
          "data": {
            "text/plain": [
              "array([[9.76130141e-03, 9.90238699e-01],\n",
              "       [6.14312272e-02, 9.38568773e-01],\n",
              "       [8.15477257e-01, 1.84522743e-01],\n",
              "       [1.15938452e-05, 9.99988406e-01],\n",
              "       [6.45091832e-02, 9.35490817e-01],\n",
              "       [1.06897009e-01, 8.93102991e-01],\n",
              "       [1.35450967e-01, 8.64549033e-01],\n",
              "       [1.56234150e-04, 9.99843766e-01],\n",
              "       [5.62165345e-02, 9.43783465e-01],\n",
              "       [4.57353754e-03, 9.95426462e-01],\n",
              "       [9.99762159e-01, 2.37841324e-04],\n",
              "       [4.68658463e-06, 9.99995313e-01],\n",
              "       [9.93493276e-01, 6.50672430e-03],\n",
              "       [9.79207714e-01, 2.07922863e-02],\n",
              "       [1.05902317e-03, 9.98940977e-01],\n",
              "       [4.69621011e-03, 9.95303790e-01],\n",
              "       [3.11716254e-01, 6.88283746e-01],\n",
              "       [9.53870297e-01, 4.61297034e-02],\n",
              "       [6.91008637e-01, 3.08991363e-01],\n",
              "       [9.86840695e-01, 1.31593053e-02]])"
            ]
          },
          "metadata": {
            "tags": []
          },
          "execution_count": 86
        }
      ]
    },
    {
      "cell_type": "markdown",
      "metadata": {
        "id": "y63l4OG0Qo0Z",
        "colab_type": "text"
      },
      "source": [
        "## Model Score"
      ]
    },
    {
      "cell_type": "code",
      "metadata": {
        "id": "9LCZWMBma1eh",
        "colab_type": "code",
        "colab": {
          "base_uri": "https://localhost:8080/",
          "height": 35
        },
        "outputId": "36700924-dd37-466d-9da2-6f1a3467711e"
      },
      "source": [
        "print('Model Score= ', lm.score(X_test, y_test))"
      ],
      "execution_count": 66,
      "outputs": [
        {
          "output_type": "stream",
          "text": [
            "Model Score=  0.8\n"
          ],
          "name": "stdout"
        }
      ]
    },
    {
      "cell_type": "markdown",
      "metadata": {
        "id": "8-_AdeDdgPB5",
        "colab_type": "text"
      },
      "source": [
        "## Conclusion\n",
        "This concludes our binary logistic regression study using sklearn library. In next tutorial I will cover multi class logistic regression."
      ]
    }
  ]
}