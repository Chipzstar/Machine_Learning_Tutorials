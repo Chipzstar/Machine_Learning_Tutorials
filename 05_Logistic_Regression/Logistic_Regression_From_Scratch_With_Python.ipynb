{
  "nbformat": 4,
  "nbformat_minor": 0,
  "metadata": {
    "colab": {
      "name": "Logistic_Regression_From_Scratch_With_Python.ipynb",
      "provenance": [],
      "collapsed_sections": [],
      "authorship_tag": "ABX9TyNT+IeKr6a/Ce/XMlYsOo1m",
      "include_colab_link": true
    },
    "kernelspec": {
      "name": "python3",
      "display_name": "Python 3"
    }
  },
  "cells": [
    {
      "cell_type": "markdown",
      "metadata": {
        "id": "view-in-github",
        "colab_type": "text"
      },
      "source": [
        "<a href=\"https://colab.research.google.com/github/satishgunjal/Machine_Learning_Tutorials/blob/master/05_Logistic_Regression/Logistic_Regression_From_Scratch_With_Python.ipynb\" target=\"_parent\"><img src=\"https://colab.research.google.com/assets/colab-badge.svg\" alt=\"Open In Colab\"/></a>"
      ]
    },
    {
      "cell_type": "markdown",
      "metadata": {
        "id": "CEyb71nOH1Ga",
        "colab_type": "text"
      },
      "source": [
        "![logistic_regression_header.png)](https://raw.githubusercontent.com/satishgunjal/images/master/logistic_regression_header.png)\n",
        "\n",
        "This tutorial covers basic concepts of logistic regression. I will explain the process of creating a model right from hypothesis function to algorithm. We will also use plots for better visualization of inner workings of the model. At the end we will test our model for binary classification."
      ]
    },
    {
      "cell_type": "markdown",
      "metadata": {
        "id": "Ip7BA3h9JGMp",
        "colab_type": "text"
      },
      "source": [
        "# Introduction\n",
        " \n",
        "Unlike Linear Regression, Logistic Regression is used to solve classification problem like classifying email as spam or not spam. Don't get confuse by the name 'Regression', Logistic Regression is a 'Classification Algorithm'. \n",
        "If the value that we are trying to classify takes on only two values 0(negative/false) or 1 (positive/true) then we call it 'Binary Classification' and if there are more than two classes, then we call it 'Multi Class Classification'\n",
        " \n",
        "![Binary_vs_Multiclass_Classification.png](https://raw.githubusercontent.com/satishgunjal/images/master/Binary_vs_Multiclass_Classification.png)\n",
        " \n",
        "We will create our own Logistic regression algorithm and  build a classification model that estimates an applicant's probability of admission based on Exam 1 and Exam 2 scores. \n",
        " \n",
        "Logistic Regression is Supervised Learning Algorithm.\n",
        " \n",
        "I am using same notation and example data used in [Andrew Ng's Machine Learning course](https://www.coursera.org/learn/machine-learning/home/welcome)\n",
        " \n",
        " \n",
        " \n",
        " \n",
        "\n"
      ]
    },
    {
      "cell_type": "markdown",
      "metadata": {
        "id": "zGgPqiivJ2OI",
        "colab_type": "text"
      },
      "source": [
        "## Why Can't We use Linear Regression For Classification\n",
        "* We have already learned about Linear Regression, so you must be wondering why do we need Logistic Regression? Can't we use Linear Regression to solve the classification problems?\n",
        "* Remember that Linear Regression works well when there is linear relation between output and input values\n",
        "* In classification our objective is to get discrete value like 0 or 1. But in case of Linear regression our objective is to get continuous value which can range outside 0 and 1. This is one of the problem, as we are trying to classify output as 0 or 1 but Linear Regression algorithm isn't designed for predicting discrete values.\n",
        "* So in order to get discrete output from Linear Regression we can use threshold value(0.5) to classify output. Classify anything above 0.5 as positive class(1) and anything below 0.5 as negative class(0). \n",
        " \n",
        "  ![Classification_Using_Linear_Regression.png](https://raw.githubusercontent.com/satishgunjal/images/master/Classification_Using_Linear_Regression.png)\n",
        " \n",
        "* But this adjustment also do not work if there are outliers in dataset. Notice the slope of line in below figure and incorrect prediction.\n",
        " \n",
        "  ![Classification_Using_Linear_Regression_Issue.png](https://raw.githubusercontent.com/satishgunjal/images/master/Classification_Using_Linear_Regression_Issue.png)\n",
        " \n",
        "* That's why we can't use Linear Regression to solve classification problem, and we need dedicated algorithm for it.\n",
        " \n",
        "## Hypothesis Function\n",
        "* Since our objective is to get discrete value(0 or 1) we will create a hypothesis function that will return values between 0 and 1\n",
        "* Sigmoid function do exactly that, it maps the whole real number range between 0 and 1. It is also called as Logistic function. \n",
        " \n",
        "  ![sigmoid_function.png](https://raw.githubusercontent.com/satishgunjal/images/master/sigmoid_function.png)\n",
        " \n",
        "* The term Sigmoid means 'S-shaped' and when plotted this function gives S-shaped curve. In below figure for given range of X values, Y values ranges from 0 to 1 only\n",
        " \n",
        "  ![sigmoid_function_curve.png](https://raw.githubusercontent.com/satishgunjal/images/master/sigmoid_function_curve.png)\n",
        " \n",
        "* Remember hypothesis function for Linear Regression is \n",
        "    ```\n",
        "    h(x) = θ_0 + (θ_1*x_1)....(θ_n*x_n)\n",
        "    ```\n",
        "  We are going to use this function as input to our Sigmoid function to get the discrete values.\n",
        "    ```\n",
        "    z = θ_0 + (θ_1*x_1)....(θ_n*x_n)\n",
        "    ```\n",
        " \n",
        "* Hypothesis function for Logistic Regression is \n",
        "    ```\n",
        "    h(x) = g(z) = g(θ_0 + (θ_1*x_1)....(θ_n*x_n))\n",
        "    ```\n",
        "    ![logistic_hypothesis_function.png](https://raw.githubusercontent.com/satishgunjal/images/master/logistic_hypothesis_function.png)\n",
        " \n",
        "  \n",
        "* Basically we are using line function as input to sigmoid function in order to get discrete value from 0 to 1. The way our sigmoid function g(z) behaves is that, when its input is greater than or equal to zero, its output is greater than or equal to 0.5\n",
        " \n",
        "  ![logistic_function_input_relation.png](https://raw.githubusercontent.com/satishgunjal/images/master/logistic_function_input_relation.png)\n",
        " \n",
        "* Since positive input results in positive class and negative input results in negative class, we can separate both the classes by setting the weighted sum of inputs to 0. i.e. \n",
        " \n",
        "    ```\n",
        "    z = θ_0 + (θ_1*x_1)....(θ_n*x_n) = 0\n",
        "    ```\n",
        " \n",
        "## Decision Boundary\n",
        "* Decision boundary separates the positive and negative class\n",
        "* The decision boundary is the line that separates the area where y = 0 and where y = 1. It is created by our hypothesis function.\n",
        "* As explained earlier decision boundary can be found by setting the weighted sum of inputs to 0\n",
        "* Lets create a formula to find decision boundary for two feature(x and x1) dataset\n",
        " \n",
        "    ```\n",
        "    h(x) = θ_0 + (θ_1*x_1) + (θ_2*x_2) = 0\n",
        "    x_2 = -(θ_0 + (θ_1*x_1)) / θ_2\n",
        "    ```\n",
        " \n",
        "  ![Decision_Boundary.png](https://raw.githubusercontent.com/satishgunjal/images/master/Decision_Boundary.png)\n",
        " \n",
        "Now we have our hypothesis function and decision boundary formula to classify the given data. Just like linear regression lets define a cost function to find the optimum values of theta parameters.\n",
        " \n",
        "## Cost Function\n",
        " \n",
        "It is obvious that to find the optimum values of theta parameters we have to try multiple values and then choose the best possible values based on how the predicted class match with given data. To do this we will create a cost function (J). Inner working of cost function is as below\n",
        " \n",
        "* We will start with random values of θ_0 and θ_1\n",
        "* We will execute the hypothesis function using theta values, to get the predicted values(0 or 1) for every training example\n",
        "* Now we will compare our predicted discrete values with actual target values from training data.\n",
        "* If our predicted value matches with actual value then our cost will be '0' or else cost will be highly penalized.\n",
        "* Logistic Regression cost function is as below\n",
        " \n",
        "  ![logistic_regression_cost_function.png](https://raw.githubusercontent.com/satishgunjal/images/master/logistic_regression_cost_function.png)\n",
        " \n",
        "* Vectorized implementation Of Logistic Regression cost function is as below\n",
        " \n",
        "  ![logistic_regression_cost_function_vectorized.png](https://raw.githubusercontent.com/satishgunjal/images/master/logistic_regression_cost_function_vectorized.png)\n",
        " \n",
        "* Just like linear regression logistic cost function is also ‘Convex function’\n",
        "* So the optimum values of the theta are the one, for which we get minimum value of the cost.\n",
        " \n",
        "Now we are going to use 'Advanced Optimization Algorithm' to find theta values.\n",
        " \n",
        "## Advance Optimization Algorithm\n",
        "* We are going to use fmin_tnc() function from 'scipy' library to find theta values\n",
        "* This function will use cost function and gradient of the cost to find the optimum values of theta.\n",
        "* Gradient of the cost is nothing but partial derivative of cost function\n",
        " \n",
        "  ![gradient_of_cost.png](https://raw.githubusercontent.com/satishgunjal/images/master/gradient_of_cost.png)\n",
        " \n",
        "* Note that while this gradient of cost looks identical to the linear regression gradient, the formula is actually different because linear and logistic regression have different definitions of h(x).\n",
        "\n",
        "\n"
      ]
    },
    {
      "cell_type": "markdown",
      "metadata": {
        "id": "3-XCCXwvHGnP",
        "colab_type": "text"
      },
      "source": [
        "Enough of theory, now lets implement logistic regression algorithm using Python and create our classification model"
      ]
    },
    {
      "cell_type": "markdown",
      "metadata": {
        "id": "bZ-bjO2-HVQB",
        "colab_type": "text"
      },
      "source": [
        "# Python Code\n",
        "Now we will implement the Logistic regression algorithm in Python and build a classification model that estimates an applicant's probability of admission based on Exam 1 and Exam 2 scores.\n",
        " \n",
        "\n"
      ]
    },
    {
      "cell_type": "markdown",
      "metadata": {
        "id": "GilBCgHDHWVF",
        "colab_type": "text"
      },
      "source": [
        "## Notations used\n",
        "* m   = no of training examples (no of rows of feature matrix)\n",
        "* n   = no of features (no of columns of feature matrix)\n",
        "* X's = input variables / independent variables / features\n",
        "* y's = output variables / dependent variables / target/ labels"
      ]
    },
    {
      "cell_type": "markdown",
      "metadata": {
        "id": "4rhZ2wu4n--H",
        "colab_type": "text"
      },
      "source": [
        "## Import Libraries\n",
        "* pandas: Used for data manipulation and analysis\n",
        "* numpy : Numpy is the core library for scientific computing in Python. It is used for working with arrays and matrices.\n",
        "* matplotlib : It's plotting library, and we are going to use it for data visualization\n",
        "* scipy.optimize: Advance optimization library"
      ]
    },
    {
      "cell_type": "code",
      "metadata": {
        "id": "ea5YiYn7Gv-O",
        "colab_type": "code",
        "colab": {}
      },
      "source": [
        "import pandas as pd\n",
        "import numpy as np\n",
        "import matplotlib.pyplot as plt\n",
        "import scipy.optimize as opt"
      ],
      "execution_count": 0,
      "outputs": []
    },
    {
      "cell_type": "markdown",
      "metadata": {
        "id": "pC2hp04SoDpb",
        "colab_type": "text"
      },
      "source": [
        "## Load The Data\n",
        "* We are going to use 'admission_basedon_exam_scores.csv' CSV file\n",
        "* File contains three columns \tExam 1 marks,\tExam 2 marks and\tAdmission status"
      ]
    },
    {
      "cell_type": "code",
      "metadata": {
        "id": "uvDKRlvsoFyg",
        "colab_type": "code",
        "colab": {
          "base_uri": "https://localhost:8080/",
          "height": 237
        },
        "outputId": "d05c2e0b-956e-4706-da79-c73a05759755"
      },
      "source": [
        "df = pd.read_csv('https://raw.githubusercontent.com/satishgunjal/datasets/master/admission_basedon_exam_scores.csv')\n",
        "m, n = df.shape\n",
        "print('Number of training examples m = ', m)\n",
        "print('Number of features n = ', n - 1) # Not counting the 'Label: Admission status'\n",
        "df.sample(5) # Show random 5 training examples"
      ],
      "execution_count": 6,
      "outputs": [
        {
          "output_type": "stream",
          "text": [
            "Number of training examples m =  100\n",
            "Number of features n =  2\n"
          ],
          "name": "stdout"
        },
        {
          "output_type": "execute_result",
          "data": {
            "text/html": [
              "<div>\n",
              "<style scoped>\n",
              "    .dataframe tbody tr th:only-of-type {\n",
              "        vertical-align: middle;\n",
              "    }\n",
              "\n",
              "    .dataframe tbody tr th {\n",
              "        vertical-align: top;\n",
              "    }\n",
              "\n",
              "    .dataframe thead th {\n",
              "        text-align: right;\n",
              "    }\n",
              "</style>\n",
              "<table border=\"1\" class=\"dataframe\">\n",
              "  <thead>\n",
              "    <tr style=\"text-align: right;\">\n",
              "      <th></th>\n",
              "      <th>Exam 1 marks</th>\n",
              "      <th>Exam 2 marks</th>\n",
              "      <th>Admission status</th>\n",
              "    </tr>\n",
              "  </thead>\n",
              "  <tbody>\n",
              "    <tr>\n",
              "      <th>38</th>\n",
              "      <td>74.789253</td>\n",
              "      <td>41.573415</td>\n",
              "      <td>0</td>\n",
              "    </tr>\n",
              "    <tr>\n",
              "      <th>45</th>\n",
              "      <td>62.222676</td>\n",
              "      <td>52.060992</td>\n",
              "      <td>0</td>\n",
              "    </tr>\n",
              "    <tr>\n",
              "      <th>19</th>\n",
              "      <td>76.978784</td>\n",
              "      <td>47.575964</td>\n",
              "      <td>1</td>\n",
              "    </tr>\n",
              "    <tr>\n",
              "      <th>3</th>\n",
              "      <td>60.182599</td>\n",
              "      <td>86.308552</td>\n",
              "      <td>1</td>\n",
              "    </tr>\n",
              "    <tr>\n",
              "      <th>66</th>\n",
              "      <td>40.457551</td>\n",
              "      <td>97.535185</td>\n",
              "      <td>1</td>\n",
              "    </tr>\n",
              "  </tbody>\n",
              "</table>\n",
              "</div>"
            ],
            "text/plain": [
              "    Exam 1 marks  Exam 2 marks  Admission status\n",
              "38     74.789253     41.573415                 0\n",
              "45     62.222676     52.060992                 0\n",
              "19     76.978784     47.575964                 1\n",
              "3      60.182599     86.308552                 1\n",
              "66     40.457551     97.535185                 1"
            ]
          },
          "metadata": {
            "tags": []
          },
          "execution_count": 6
        }
      ]
    },
    {
      "cell_type": "markdown",
      "metadata": {
        "id": "JVRVkPG0o265",
        "colab_type": "text"
      },
      "source": [
        "## Data Understanding\n",
        "* There are total 100 training examples (m= 100 or 100 no of rows)\n",
        "* There are two features Exam 1 marks and Exam 2 marks\n",
        "* Label column contains application status. Where '1' means admitted and '0' means not admitted\n",
        "* Total no of features (n) = 2 (Later we will add column of ones(x_0) to make it 3)\n",
        " \n",
        "\n"
      ]
    },
    {
      "cell_type": "markdown",
      "metadata": {
        "id": "OMsl331oqBJ8",
        "colab_type": "text"
      },
      "source": [
        "## Data Visualization\n",
        "\n",
        "To plot the data of admitted and not admitted applicants, we need to first create separate data frame for each class(admitted/not-admitted)\n"
      ]
    },
    {
      "cell_type": "code",
      "metadata": {
        "id": "aa1knpr8srjG",
        "colab_type": "code",
        "colab": {
          "base_uri": "https://localhost:8080/",
          "height": 219
        },
        "outputId": "e76af849-f297-41e9-c444-7e70d571d3d0"
      },
      "source": [
        "df_admitted = df[df['Admission status'] == 1]\n",
        "print('Dimension of df_admitted= ', df_admitted.shape)\n",
        "df_admitted.sample(5)"
      ],
      "execution_count": 7,
      "outputs": [
        {
          "output_type": "stream",
          "text": [
            "Dimension of df_admitted=  (60, 3)\n"
          ],
          "name": "stdout"
        },
        {
          "output_type": "execute_result",
          "data": {
            "text/html": [
              "<div>\n",
              "<style scoped>\n",
              "    .dataframe tbody tr th:only-of-type {\n",
              "        vertical-align: middle;\n",
              "    }\n",
              "\n",
              "    .dataframe tbody tr th {\n",
              "        vertical-align: top;\n",
              "    }\n",
              "\n",
              "    .dataframe thead th {\n",
              "        text-align: right;\n",
              "    }\n",
              "</style>\n",
              "<table border=\"1\" class=\"dataframe\">\n",
              "  <thead>\n",
              "    <tr style=\"text-align: right;\">\n",
              "      <th></th>\n",
              "      <th>Exam 1 marks</th>\n",
              "      <th>Exam 2 marks</th>\n",
              "      <th>Admission status</th>\n",
              "    </tr>\n",
              "  </thead>\n",
              "  <tbody>\n",
              "    <tr>\n",
              "      <th>81</th>\n",
              "      <td>94.834507</td>\n",
              "      <td>45.694307</td>\n",
              "      <td>1</td>\n",
              "    </tr>\n",
              "    <tr>\n",
              "      <th>46</th>\n",
              "      <td>77.193035</td>\n",
              "      <td>70.458200</td>\n",
              "      <td>1</td>\n",
              "    </tr>\n",
              "    <tr>\n",
              "      <th>88</th>\n",
              "      <td>78.635424</td>\n",
              "      <td>96.647427</td>\n",
              "      <td>1</td>\n",
              "    </tr>\n",
              "    <tr>\n",
              "      <th>6</th>\n",
              "      <td>61.106665</td>\n",
              "      <td>96.511426</td>\n",
              "      <td>1</td>\n",
              "    </tr>\n",
              "    <tr>\n",
              "      <th>4</th>\n",
              "      <td>79.032736</td>\n",
              "      <td>75.344376</td>\n",
              "      <td>1</td>\n",
              "    </tr>\n",
              "  </tbody>\n",
              "</table>\n",
              "</div>"
            ],
            "text/plain": [
              "    Exam 1 marks  Exam 2 marks  Admission status\n",
              "81     94.834507     45.694307                 1\n",
              "46     77.193035     70.458200                 1\n",
              "88     78.635424     96.647427                 1\n",
              "6      61.106665     96.511426                 1\n",
              "4      79.032736     75.344376                 1"
            ]
          },
          "metadata": {
            "tags": []
          },
          "execution_count": 7
        }
      ]
    },
    {
      "cell_type": "code",
      "metadata": {
        "id": "-PlvCpPYxoLH",
        "colab_type": "code",
        "colab": {
          "base_uri": "https://localhost:8080/",
          "height": 219
        },
        "outputId": "6d39762f-73ca-445c-921a-b4fa127271cd"
      },
      "source": [
        "df_notadmitted = df[df['Admission status'] == 0]\n",
        "print('Dimension of df_notadmitted= ', df_notadmitted.shape)\n",
        "df_notadmitted.sample(5)"
      ],
      "execution_count": 8,
      "outputs": [
        {
          "output_type": "stream",
          "text": [
            "Dimension of df_notadmitted=  (40, 3)\n"
          ],
          "name": "stdout"
        },
        {
          "output_type": "execute_result",
          "data": {
            "text/html": [
              "<div>\n",
              "<style scoped>\n",
              "    .dataframe tbody tr th:only-of-type {\n",
              "        vertical-align: middle;\n",
              "    }\n",
              "\n",
              "    .dataframe tbody tr th {\n",
              "        vertical-align: top;\n",
              "    }\n",
              "\n",
              "    .dataframe thead th {\n",
              "        text-align: right;\n",
              "    }\n",
              "</style>\n",
              "<table border=\"1\" class=\"dataframe\">\n",
              "  <thead>\n",
              "    <tr style=\"text-align: right;\">\n",
              "      <th></th>\n",
              "      <th>Exam 1 marks</th>\n",
              "      <th>Exam 2 marks</th>\n",
              "      <th>Admission status</th>\n",
              "    </tr>\n",
              "  </thead>\n",
              "  <tbody>\n",
              "    <tr>\n",
              "      <th>22</th>\n",
              "      <td>50.534788</td>\n",
              "      <td>48.855812</td>\n",
              "      <td>0</td>\n",
              "    </tr>\n",
              "    <tr>\n",
              "      <th>65</th>\n",
              "      <td>66.560894</td>\n",
              "      <td>41.092098</td>\n",
              "      <td>0</td>\n",
              "    </tr>\n",
              "    <tr>\n",
              "      <th>63</th>\n",
              "      <td>30.058822</td>\n",
              "      <td>49.592974</td>\n",
              "      <td>0</td>\n",
              "    </tr>\n",
              "    <tr>\n",
              "      <th>43</th>\n",
              "      <td>82.368754</td>\n",
              "      <td>40.618255</td>\n",
              "      <td>0</td>\n",
              "    </tr>\n",
              "    <tr>\n",
              "      <th>39</th>\n",
              "      <td>34.183640</td>\n",
              "      <td>75.237720</td>\n",
              "      <td>0</td>\n",
              "    </tr>\n",
              "  </tbody>\n",
              "</table>\n",
              "</div>"
            ],
            "text/plain": [
              "    Exam 1 marks  Exam 2 marks  Admission status\n",
              "22     50.534788     48.855812                 0\n",
              "65     66.560894     41.092098                 0\n",
              "63     30.058822     49.592974                 0\n",
              "43     82.368754     40.618255                 0\n",
              "39     34.183640     75.237720                 0"
            ]
          },
          "metadata": {
            "tags": []
          },
          "execution_count": 8
        }
      ]
    },
    {
      "cell_type": "markdown",
      "metadata": {
        "id": "k5huvVJLxyCz",
        "colab_type": "text"
      },
      "source": [
        "Now lets plot the scatter plot for admitted and not admitted students"
      ]
    },
    {
      "cell_type": "code",
      "metadata": {
        "id": "y61B_0nLqDOO",
        "colab_type": "code",
        "colab": {
          "base_uri": "https://localhost:8080/",
          "height": 421
        },
        "outputId": "e88502bc-1a12-4ec7-fbad-604e71764795"
      },
      "source": [
        "plt.figure(figsize = (10,6))\n",
        "plt.scatter(df_admitted['Exam 1 marks'], df_admitted['Exam 2 marks'], color='green', label='Admitted Applicants')\n",
        "plt.scatter(df_notadmitted['Exam 1 marks'], df_notadmitted['Exam 2 marks'], color='red', label='Not Admitted Applicants')\n",
        "plt.xlabel('Exam 1 Marks')\n",
        "plt.ylabel('Exam 2 Marks')\n",
        "plt.legend()\n",
        "plt.title('Admitted Vs Not Admitted Applicants')"
      ],
      "execution_count": 9,
      "outputs": [
        {
          "output_type": "execute_result",
          "data": {
            "text/plain": [
              "Text(0.5, 1.0, 'Admitted Vs Not Admitted Applicants')"
            ]
          },
          "metadata": {
            "tags": []
          },
          "execution_count": 9
        },
        {
          "output_type": "display_data",
          "data": {
            "image/png": "[encoded data removed]",
            "text/plain": [
              "<Figure size 720x432 with 1 Axes>"
            ]
          },
          "metadata": {
            "tags": [],
            "needs_background": "light"
          }
        }
      ]
    },
    {
      "cell_type": "markdown",
      "metadata": {
        "id": "8s3INEFqpbxs",
        "colab_type": "text"
      },
      "source": [
        "## Compute Cost Using Cost Function"
      ]
    },
    {
      "cell_type": "markdown",
      "metadata": {
        "id": "tzduHeGG9TZv",
        "colab_type": "text"
      },
      "source": [
        "### Create Feature Matrix X and Label Vector y\n",
        "If you want to know the reason behind adding column of ones to feature matrix, please refer 'Vector Representation Of Hypothesis Function' in [Univariate Linear Regression](https://satishgunjal.github.io/univariate_lr/)\n",
        " \n",
        "\n"
      ]
    },
    {
      "cell_type": "code",
      "metadata": {
        "id": "wbND4HH9o6yC",
        "colab_type": "code",
        "colab": {
          "base_uri": "https://localhost:8080/",
          "height": 139
        },
        "outputId": "66b5f95f-6b32-454e-9305-d572725fdd8e"
      },
      "source": [
        "# Get feature columns from dataframe\n",
        "X = df.iloc[:, 0:2] \n",
        "#Add column of ones (intercept term)\n",
        "X = np.hstack((np.ones((m,1)),X))\n",
        "# Now X is numpy array of 2 dimension\n",
        "print(\"Dimension of feature matric X = \", X.shape, '\\n')\n",
        "\n",
        "y = df.iloc[:, -1]\n",
        "# First 5 records training examples with labels\n",
        "for i in range(5):\n",
        "    print('x =', X[i, ], ', y =', y[i])"
      ],
      "execution_count": 10,
      "outputs": [
        {
          "output_type": "stream",
          "text": [
            "Dimension of feature matric X =  (100, 3) \n",
            "\n",
            "x = [ 1.         34.62365962 78.02469282] , y = 0\n",
            "x = [ 1.         30.28671077 43.89499752] , y = 0\n",
            "x = [ 1.         35.84740877 72.90219803] , y = 0\n",
            "x = [ 1.         60.18259939 86.3085521 ] , y = 1\n",
            "x = [ 1.         79.03273605 75.34437644] , y = 1\n"
          ],
          "name": "stdout"
        }
      ]
    },
    {
      "cell_type": "markdown",
      "metadata": {
        "id": "isO1hDX0B03a",
        "colab_type": "text"
      },
      "source": [
        "Lets also initialize the theta values with 0"
      ]
    },
    {
      "cell_type": "code",
      "metadata": {
        "id": "3SqVHc36B683",
        "colab_type": "code",
        "colab": {
          "base_uri": "https://localhost:8080/",
          "height": 35
        },
        "outputId": "fc180b12-91c5-43a3-b22b-02cf201b7e86"
      },
      "source": [
        "theta = np.zeros(n)\n",
        "theta"
      ],
      "execution_count": 11,
      "outputs": [
        {
          "output_type": "execute_result",
          "data": {
            "text/plain": [
              "array([0., 0., 0.])"
            ]
          },
          "metadata": {
            "tags": []
          },
          "execution_count": 11
        }
      ]
    },
    {
      "cell_type": "markdown",
      "metadata": {
        "id": "muIQstzeCGYS",
        "colab_type": "text"
      },
      "source": [
        "### Create Sigmoid Function"
      ]
    },
    {
      "cell_type": "code",
      "metadata": {
        "id": "wJUIeX8mCKOB",
        "colab_type": "code",
        "colab": {}
      },
      "source": [
        "def sigmoid(z):\n",
        "    \"\"\"\n",
        "    To convert continuous value into a range of 0 to 1\n",
        "\n",
        "    I/P\n",
        "    ----------\n",
        "    z : Continuous value\n",
        "\n",
        "    O/P\n",
        "    -------\n",
        "    Value in range between 0 to 1.\n",
        "    \"\"\"\n",
        "    g = 1 / (1 + np.exp(-z))\n",
        "    return g"
      ],
      "execution_count": 0,
      "outputs": []
    },
    {
      "cell_type": "markdown",
      "metadata": {
        "id": "4YQA1W9nDnvo",
        "colab_type": "text"
      },
      "source": [
        "### Create Cost And Gradient Function\n",
        "We are using vector implementation of cost and gradient function formula's for better performance\n",
        "\n"
      ]
    },
    {
      "cell_type": "code",
      "metadata": {
        "id": "GCGiM6bhDqi9",
        "colab_type": "code",
        "colab": {}
      },
      "source": [
        "def cost_function(theta, X, y):\n",
        "    \"\"\"\n",
        "    Compute cost for logistic regression.\n",
        "\n",
        "    I/P\n",
        "    ----------\n",
        "    X : 2D array where each row represent the training example and each column represent the feature ndarray. Dimension(m x n)\n",
        "        m= number of training examples\n",
        "        n= number of features (including X_0 column of ones)\n",
        "    y : 1D array of labels/target value for each traing example. dimension(1 x m)\n",
        "\n",
        "    theta : 1D array of fitting parameters or weights. Dimension (1 x n)\n",
        "\n",
        "    O/P\n",
        "    -------\n",
        "    J : The cost of using theta as the parameter for linear regression to fit the data points in X and y.\n",
        "    \"\"\"\n",
        "    m, n = X.shape\n",
        "    x_dot_theta = X.dot(theta)\n",
        "\n",
        "    J = 1.0 / m * (-y.T.dot(np.log(sigmoid(x_dot_theta))) - (1 - y).T.dot(np.log(1 - sigmoid(x_dot_theta))))\n",
        "\n",
        "    return J"
      ],
      "execution_count": 0,
      "outputs": []
    },
    {
      "cell_type": "code",
      "metadata": {
        "id": "ge4R2JSxQFsH",
        "colab_type": "code",
        "colab": {}
      },
      "source": [
        "def gradient(theta, X, y):\n",
        "    \"\"\"\n",
        "    Compute gradient for logistic regression.\n",
        "\n",
        "    I/P\n",
        "    ----------\n",
        "    X : 2D array where each row represent the training example and each column represent the feature ndarray. Dimension(m x n)\n",
        "        m= number of training examples\n",
        "        n= number of features (including X_0 column of ones)\n",
        "    y : 1D array of labels/target value for each traing example. dimension(1 x m)\n",
        "\n",
        "    theta : 1D array of fitting parameters or weights. Dimension (1 x n)\n",
        "\n",
        "    O/P\n",
        "    -------\n",
        "    grad: (numpy array)The gradient of the cost with respect to the parameters theta\n",
        "    \"\"\"\n",
        "    m, n = X.shape\n",
        "    x_dot_theta = X.dot(theta)\n",
        "\n",
        "    grad = 1.0 / m * (sigmoid(x_dot_theta) - y).T.dot(X)\n",
        "\n",
        "    return grad"
      ],
      "execution_count": 0,
      "outputs": []
    },
    {
      "cell_type": "markdown",
      "metadata": {
        "id": "dXJvmmQ3EXPP",
        "colab_type": "text"
      },
      "source": [
        "Testing the cost_function() using initial values"
      ]
    },
    {
      "cell_type": "code",
      "metadata": {
        "id": "5SPrxhPMEaej",
        "colab_type": "code",
        "colab": {
          "base_uri": "https://localhost:8080/",
          "height": 52
        },
        "outputId": "35bfe7ae-bdf2-4a84-9c41-31292a5f7b24"
      },
      "source": [
        "cost = cost_function(theta, X, y)\n",
        "print ('Cost at initial theta (zeros):', cost)\n",
        "\n",
        "grad = gradient(theta, X, y)\n",
        "print ('Gradient at initial theta (zeros):', grad)"
      ],
      "execution_count": 15,
      "outputs": [
        {
          "output_type": "stream",
          "text": [
            "Cost at initial theta (zeros): 0.6931471805599453\n",
            "Gradient at initial theta (zeros): [ -0.1        -12.00921659 -11.26284221]\n"
          ],
          "name": "stdout"
        }
      ]
    },
    {
      "cell_type": "markdown",
      "metadata": {
        "id": "Ef3NO6I1EuUh",
        "colab_type": "text"
      },
      "source": [
        "## Using Advance Optimization Technique To Find Theta Values\n",
        "* Remember in [Univariate Linear Regression](https://satishgunjal.github.io/univariate_lr/) tutorial we have created a gradient descent function to find the theta values.\n",
        "* But here we are going use fmin_tnc function from the scipy library\n",
        "* This process is same as using 'fit' method from sklearn library. Because here we are trying to optimize our cost function in order to find the best possible parameter(theta) values\n",
        "* fmin_tnc function takes four arguments:\n",
        "  - func: Cost function to minimize\n",
        "  - fprime: Gradient for the function defined by ‘func’\n",
        "  - x0: initial values for the parameters(theta) that we want to find\n",
        "  - args: feature and label values\n",
        "\n"
      ]
    },
    {
      "cell_type": "code",
      "metadata": {
        "id": "sbzX6UVRE4f1",
        "colab_type": "code",
        "colab": {
          "base_uri": "https://localhost:8080/",
          "height": 52
        },
        "outputId": "e9475768-8838-4a10-89c0-1ecafe9510d6"
      },
      "source": [
        "theta, nfeval, rc = opt.fmin_tnc(func=cost_function, fprime= gradient, x0=theta, args=(X, y))\n",
        "\n",
        "cost = cost_function(theta, X, y)\n",
        "print ('Cost at theta found by fminunc:', cost)\n",
        "print ('theta:', theta)"
      ],
      "execution_count": 16,
      "outputs": [
        {
          "output_type": "stream",
          "text": [
            "Cost at theta found by fminunc: 0.20349770158947436\n",
            "theta: [-25.16131865   0.20623159   0.20147149]\n"
          ],
          "name": "stdout"
        }
      ]
    },
    {
      "cell_type": "markdown",
      "metadata": {
        "id": "PJwzTcPDSeaR",
        "colab_type": "text"
      },
      "source": [
        "## Visualization\n",
        "Let's plot decision boundary to cross-check the accuracy of our model\n",
        "\n"
      ]
    },
    {
      "cell_type": "code",
      "metadata": {
        "id": "js9D0BfAU9jN",
        "colab_type": "code",
        "colab": {
          "base_uri": "https://localhost:8080/",
          "height": 421
        },
        "outputId": "0ebb877e-ff24-4847-df96-50b9742ed950"
      },
      "source": [
        "# Lets calculate the X and Y values using Decision Boundary formula\n",
        "\n",
        "# For ploting a line we just need 2 points. Here I am taking 'min' and 'max' value as my two X points\n",
        "x_values = [min(X[:, 1]), np.max(X[:, 2])]\n",
        "y_values = - (theta[0] + np.dot(theta[1], x_values)) / theta[2]\n",
        "\n",
        "plt.figure(figsize = (10,6))\n",
        "plt.scatter(df_admitted['Exam 1 marks'], df_admitted['Exam 2 marks'], color='green', label='Admitted Applicants')\n",
        "plt.scatter(df_notadmitted['Exam 1 marks'], df_notadmitted['Exam 2 marks'], color='red', label='Not Admitted Applicants')\n",
        "plt.xlabel('Exam 1 Marks')\n",
        "plt.ylabel('Exam 2 Marks')\n",
        "\n",
        "plt.plot(x_values, y_values, color='blue', label='Decision Boundary')\n",
        "plt.legend()\n",
        "plt.title('Decision Boundary')"
      ],
      "execution_count": 33,
      "outputs": [
        {
          "output_type": "execute_result",
          "data": {
            "text/plain": [
              "Text(0.5, 1.0, 'Decision Boundary')"
            ]
          },
          "metadata": {
            "tags": []
          },
          "execution_count": 33
        },
        {
          "output_type": "display_data",
          "data": {
            "image/png": "[encoded data removed]",
            "text/plain": [
              "<Figure size 720x432 with 1 Axes>"
            ]
          },
          "metadata": {
            "tags": [],
            "needs_background": "light"
          }
        }
      ]
    },
    {
      "cell_type": "code",
      "metadata": {
        "id": "6Hj35fmVZwv0",
        "colab_type": "code",
        "colab": {
          "base_uri": "https://localhost:8080/",
          "height": 167
        },
        "outputId": "a2849ab3-5ecd-4c0e-efac-ed71904372f1"
      },
      "source": [
        "min(X)"
      ],
      "execution_count": 31,
      "outputs": [
        {
          "output_type": "error",
          "ename": "ValueError",
          "evalue": "ignored",
          "traceback": [
            "\u001b[0;31m---------------------------------------------------------------------------\u001b[0m",
            "\u001b[0;31mValueError\u001b[0m                                Traceback (most recent call last)",
            "\u001b[0;32m<ipython-input-31-218b9c97077e>\u001b[0m in \u001b[0;36m<module>\u001b[0;34m()\u001b[0m\n\u001b[0;32m----> 1\u001b[0;31m \u001b[0mmin\u001b[0m\u001b[0;34m(\u001b[0m\u001b[0mX\u001b[0m\u001b[0;34m)\u001b[0m\u001b[0;34m\u001b[0m\u001b[0;34m\u001b[0m\u001b[0m\n\u001b[0m",
            "\u001b[0;31mValueError\u001b[0m: The truth value of an array with more than one element is ambiguous. Use a.any() or a.all()"
          ]
        }
      ]
    },
    {
      "cell_type": "markdown",
      "metadata": {
        "id": "vGV1sMF9qJlD",
        "colab_type": "text"
      },
      "source": [
        "## Model Testing\n",
        "* **Question: Predict an admission probability for applicant with scores 45 in Exam 1 and 85 in Exam 2**\n",
        "* We can use our hypothesis function for prediction\n",
        "  h(x) = g(z) = g(Xθ)\n",
        "\n"
      ]
    },
    {
      "cell_type": "code",
      "metadata": {
        "id": "Aa9bAs71Sypq",
        "colab_type": "code",
        "colab": {
          "base_uri": "https://localhost:8080/",
          "height": 35
        },
        "outputId": "05bea59a-d423-4b27-f0bb-45c342531116"
      },
      "source": [
        "input_data = np.array([1, 45, 85]) # Note the intercept term '1' in array\n",
        "prob = sigmoid(np.dot(input_data, theta))\n",
        "print ('Admission probability for applicant with scores 45 in Exam 1 and 85 in Exam 2 is =', prob)"
      ],
      "execution_count": 18,
      "outputs": [
        {
          "output_type": "stream",
          "text": [
            "Admission probability for applicant with scores 45 in Exam 1 and 85 in Exam 2 is = 0.7762906229081791\n"
          ],
          "name": "stdout"
        }
      ]
    },
    {
      "cell_type": "markdown",
      "metadata": {
        "id": "HBCrbsINunoZ",
        "colab_type": "text"
      },
      "source": [
        "Let's create a function for prediction on our logistic model. Instead of predicting the probability between 0 and 1, this function will use threshold value of 0.5 to predict the discrete value. 1 when probability >= 0.5 else 0\n",
        " \n",
        "\n"
      ]
    },
    {
      "cell_type": "code",
      "metadata": {
        "id": "bYLJSSW9uu-Q",
        "colab_type": "code",
        "colab": {}
      },
      "source": [
        "def predict(theta, X):\n",
        "    \"\"\"\n",
        "    Predict the class between 0 and 1 using learned logistic regression parameters theta.\n",
        "    Using threshold value 0.5 to convert probability value to class value \n",
        "\n",
        "    I/P\n",
        "    ----------\n",
        "    X : 2D array where each row represent the training example and each column represent the feature ndarray. Dimension(m x n)\n",
        "        m= number of training examples\n",
        "        n= number of features (including X_0 column of ones)\n",
        "\n",
        "    theta : 1D array of fitting parameters or weights. Dimension (1 x n)\n",
        "\n",
        "    O/P\n",
        "    -------\n",
        "    Class type based on threshold\n",
        "    \"\"\"\n",
        "    p = sigmoid(X.dot(theta)) >= 0.5\n",
        "    return p.astype(int)"
      ],
      "execution_count": 0,
      "outputs": []
    },
    {
      "cell_type": "markdown",
      "metadata": {
        "id": "chMxKjFJv1__",
        "colab_type": "text"
      },
      "source": [
        "### Accuracy Of Model"
      ]
    },
    {
      "cell_type": "code",
      "metadata": {
        "id": "Ch56QnhXwQWl",
        "colab_type": "code",
        "colab": {
          "base_uri": "https://localhost:8080/",
          "height": 211
        },
        "outputId": "60f0b9c3-2696-44d6-c954-ed29d029aaf0"
      },
      "source": [
        "predictedValue = pd.DataFrame(predict(theta, X), columns=['Predicted Admission status']) # Create new dataframe of column'Predicted Price'\n",
        "actualAdmissionStatus = pd.DataFrame(y, columns=['Admission status'])\n",
        "df_actual_vs_predicted = pd.concat([actualAdmissionStatus,predictedValue],axis =1)\n",
        "df_actual_vs_predicted.T"
      ],
      "execution_count": 20,
      "outputs": [
        {
          "output_type": "execute_result",
          "data": {
            "text/html": [
              "<div>\n",
              "<style scoped>\n",
              "    .dataframe tbody tr th:only-of-type {\n",
              "        vertical-align: middle;\n",
              "    }\n",
              "\n",
              "    .dataframe tbody tr th {\n",
              "        vertical-align: top;\n",
              "    }\n",
              "\n",
              "    .dataframe thead th {\n",
              "        text-align: right;\n",
              "    }\n",
              "</style>\n",
              "<table border=\"1\" class=\"dataframe\">\n",
              "  <thead>\n",
              "    <tr style=\"text-align: right;\">\n",
              "      <th></th>\n",
              "      <th>0</th>\n",
              "      <th>1</th>\n",
              "      <th>2</th>\n",
              "      <th>3</th>\n",
              "      <th>4</th>\n",
              "      <th>5</th>\n",
              "      <th>6</th>\n",
              "      <th>7</th>\n",
              "      <th>8</th>\n",
              "      <th>9</th>\n",
              "      <th>10</th>\n",
              "      <th>11</th>\n",
              "      <th>12</th>\n",
              "      <th>13</th>\n",
              "      <th>14</th>\n",
              "      <th>15</th>\n",
              "      <th>16</th>\n",
              "      <th>17</th>\n",
              "      <th>18</th>\n",
              "      <th>19</th>\n",
              "      <th>20</th>\n",
              "      <th>21</th>\n",
              "      <th>22</th>\n",
              "      <th>23</th>\n",
              "      <th>24</th>\n",
              "      <th>25</th>\n",
              "      <th>26</th>\n",
              "      <th>27</th>\n",
              "      <th>28</th>\n",
              "      <th>29</th>\n",
              "      <th>30</th>\n",
              "      <th>31</th>\n",
              "      <th>32</th>\n",
              "      <th>33</th>\n",
              "      <th>34</th>\n",
              "      <th>35</th>\n",
              "      <th>36</th>\n",
              "      <th>37</th>\n",
              "      <th>38</th>\n",
              "      <th>39</th>\n",
              "      <th>...</th>\n",
              "      <th>60</th>\n",
              "      <th>61</th>\n",
              "      <th>62</th>\n",
              "      <th>63</th>\n",
              "      <th>64</th>\n",
              "      <th>65</th>\n",
              "      <th>66</th>\n",
              "      <th>67</th>\n",
              "      <th>68</th>\n",
              "      <th>69</th>\n",
              "      <th>70</th>\n",
              "      <th>71</th>\n",
              "      <th>72</th>\n",
              "      <th>73</th>\n",
              "      <th>74</th>\n",
              "      <th>75</th>\n",
              "      <th>76</th>\n",
              "      <th>77</th>\n",
              "      <th>78</th>\n",
              "      <th>79</th>\n",
              "      <th>80</th>\n",
              "      <th>81</th>\n",
              "      <th>82</th>\n",
              "      <th>83</th>\n",
              "      <th>84</th>\n",
              "      <th>85</th>\n",
              "      <th>86</th>\n",
              "      <th>87</th>\n",
              "      <th>88</th>\n",
              "      <th>89</th>\n",
              "      <th>90</th>\n",
              "      <th>91</th>\n",
              "      <th>92</th>\n",
              "      <th>93</th>\n",
              "      <th>94</th>\n",
              "      <th>95</th>\n",
              "      <th>96</th>\n",
              "      <th>97</th>\n",
              "      <th>98</th>\n",
              "      <th>99</th>\n",
              "    </tr>\n",
              "  </thead>\n",
              "  <tbody>\n",
              "    <tr>\n",
              "      <th>Admission status</th>\n",
              "      <td>0</td>\n",
              "      <td>0</td>\n",
              "      <td>0</td>\n",
              "      <td>1</td>\n",
              "      <td>1</td>\n",
              "      <td>0</td>\n",
              "      <td>1</td>\n",
              "      <td>1</td>\n",
              "      <td>1</td>\n",
              "      <td>1</td>\n",
              "      <td>0</td>\n",
              "      <td>0</td>\n",
              "      <td>1</td>\n",
              "      <td>1</td>\n",
              "      <td>0</td>\n",
              "      <td>1</td>\n",
              "      <td>1</td>\n",
              "      <td>0</td>\n",
              "      <td>1</td>\n",
              "      <td>1</td>\n",
              "      <td>0</td>\n",
              "      <td>1</td>\n",
              "      <td>0</td>\n",
              "      <td>0</td>\n",
              "      <td>1</td>\n",
              "      <td>1</td>\n",
              "      <td>1</td>\n",
              "      <td>0</td>\n",
              "      <td>0</td>\n",
              "      <td>0</td>\n",
              "      <td>1</td>\n",
              "      <td>1</td>\n",
              "      <td>0</td>\n",
              "      <td>1</td>\n",
              "      <td>0</td>\n",
              "      <td>0</td>\n",
              "      <td>0</td>\n",
              "      <td>1</td>\n",
              "      <td>0</td>\n",
              "      <td>0</td>\n",
              "      <td>...</td>\n",
              "      <td>1</td>\n",
              "      <td>0</td>\n",
              "      <td>0</td>\n",
              "      <td>0</td>\n",
              "      <td>0</td>\n",
              "      <td>0</td>\n",
              "      <td>1</td>\n",
              "      <td>0</td>\n",
              "      <td>1</td>\n",
              "      <td>1</td>\n",
              "      <td>0</td>\n",
              "      <td>1</td>\n",
              "      <td>1</td>\n",
              "      <td>1</td>\n",
              "      <td>1</td>\n",
              "      <td>1</td>\n",
              "      <td>1</td>\n",
              "      <td>1</td>\n",
              "      <td>0</td>\n",
              "      <td>0</td>\n",
              "      <td>1</td>\n",
              "      <td>1</td>\n",
              "      <td>1</td>\n",
              "      <td>1</td>\n",
              "      <td>1</td>\n",
              "      <td>1</td>\n",
              "      <td>0</td>\n",
              "      <td>1</td>\n",
              "      <td>1</td>\n",
              "      <td>0</td>\n",
              "      <td>1</td>\n",
              "      <td>1</td>\n",
              "      <td>0</td>\n",
              "      <td>1</td>\n",
              "      <td>1</td>\n",
              "      <td>1</td>\n",
              "      <td>1</td>\n",
              "      <td>1</td>\n",
              "      <td>1</td>\n",
              "      <td>1</td>\n",
              "    </tr>\n",
              "    <tr>\n",
              "      <th>Predicted Admission status</th>\n",
              "      <td>0</td>\n",
              "      <td>0</td>\n",
              "      <td>0</td>\n",
              "      <td>1</td>\n",
              "      <td>1</td>\n",
              "      <td>0</td>\n",
              "      <td>1</td>\n",
              "      <td>0</td>\n",
              "      <td>1</td>\n",
              "      <td>1</td>\n",
              "      <td>1</td>\n",
              "      <td>0</td>\n",
              "      <td>1</td>\n",
              "      <td>1</td>\n",
              "      <td>0</td>\n",
              "      <td>1</td>\n",
              "      <td>0</td>\n",
              "      <td>0</td>\n",
              "      <td>1</td>\n",
              "      <td>1</td>\n",
              "      <td>0</td>\n",
              "      <td>1</td>\n",
              "      <td>0</td>\n",
              "      <td>0</td>\n",
              "      <td>1</td>\n",
              "      <td>1</td>\n",
              "      <td>1</td>\n",
              "      <td>1</td>\n",
              "      <td>0</td>\n",
              "      <td>0</td>\n",
              "      <td>1</td>\n",
              "      <td>1</td>\n",
              "      <td>0</td>\n",
              "      <td>0</td>\n",
              "      <td>0</td>\n",
              "      <td>0</td>\n",
              "      <td>1</td>\n",
              "      <td>1</td>\n",
              "      <td>0</td>\n",
              "      <td>0</td>\n",
              "      <td>...</td>\n",
              "      <td>1</td>\n",
              "      <td>0</td>\n",
              "      <td>0</td>\n",
              "      <td>0</td>\n",
              "      <td>0</td>\n",
              "      <td>0</td>\n",
              "      <td>1</td>\n",
              "      <td>0</td>\n",
              "      <td>1</td>\n",
              "      <td>1</td>\n",
              "      <td>0</td>\n",
              "      <td>1</td>\n",
              "      <td>1</td>\n",
              "      <td>1</td>\n",
              "      <td>1</td>\n",
              "      <td>1</td>\n",
              "      <td>1</td>\n",
              "      <td>1</td>\n",
              "      <td>0</td>\n",
              "      <td>1</td>\n",
              "      <td>1</td>\n",
              "      <td>1</td>\n",
              "      <td>1</td>\n",
              "      <td>0</td>\n",
              "      <td>1</td>\n",
              "      <td>1</td>\n",
              "      <td>0</td>\n",
              "      <td>1</td>\n",
              "      <td>1</td>\n",
              "      <td>0</td>\n",
              "      <td>1</td>\n",
              "      <td>1</td>\n",
              "      <td>0</td>\n",
              "      <td>1</td>\n",
              "      <td>1</td>\n",
              "      <td>1</td>\n",
              "      <td>1</td>\n",
              "      <td>1</td>\n",
              "      <td>0</td>\n",
              "      <td>1</td>\n",
              "    </tr>\n",
              "  </tbody>\n",
              "</table>\n",
              "<p>2 rows × 100 columns</p>\n",
              "</div>"
            ],
            "text/plain": [
              "                            0   1   2   3   4   5   ...  94  95  96  97  98  99\n",
              "Admission status             0   0   0   1   1   0  ...   1   1   1   1   1   1\n",
              "Predicted Admission status   0   0   0   1   1   0  ...   1   1   1   1   0   1\n",
              "\n",
              "[2 rows x 100 columns]"
            ]
          },
          "metadata": {
            "tags": []
          },
          "execution_count": 20
        }
      ]
    },
    {
      "cell_type": "code",
      "metadata": {
        "id": "Ey_uaXa9S83W",
        "colab_type": "code",
        "colab": {
          "base_uri": "https://localhost:8080/",
          "height": 35
        },
        "outputId": "f271ab13-7990-4bb9-a409-6303acbf476f"
      },
      "source": [
        "p = predict(theta, X)\n",
        "print ('Accuracy:', np.mean(p == y) * 100 )"
      ],
      "execution_count": 21,
      "outputs": [
        {
          "output_type": "stream",
          "text": [
            "Accuracy: 89.0\n"
          ],
          "name": "stdout"
        }
      ]
    },
    {
      "cell_type": "markdown",
      "metadata": {
        "id": "tzqeUsjqyN_M",
        "colab_type": "text"
      },
      "source": [
        "## Conclusion\n",
        "This conludes our logistic regression. We have covered hypothesis function, cost function and cost function optimization using advance optimization technique. We have also tested our model for binary classification using exam test data. I will also create one more study using Sklearn logistic regression model."
      ]
    }
  ]
}