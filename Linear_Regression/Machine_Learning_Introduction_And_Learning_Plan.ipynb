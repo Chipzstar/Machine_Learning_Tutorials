{
  "nbformat": 4,
  "nbformat_minor": 0,
  "metadata": {
    "colab": {
      "name": "Machine_Learning_Introduction_And_Learning_Plan.ipynb",
      "provenance": [],
      "collapsed_sections": [],
      "authorship_tag": "ABX9TyPeHpvuAhZrr4Txj542rB+j",
      "include_colab_link": true
    },
    "kernelspec": {
      "name": "python3",
      "display_name": "Python 3"
    }
  },
  "cells": [
    {
      "cell_type": "markdown",
      "metadata": {
        "id": "view-in-github",
        "colab_type": "text"
      },
      "source": [
        "<a href=\"https://colab.research.google.com/github/satishgunjal/Machine_Learning_Tutorials/blob/master/Linear_Regression/Machine_Learning_Introduction_And_Learning_Plan.ipynb\" target=\"_parent\"><img src=\"https://colab.research.google.com/assets/colab-badge.svg\" alt=\"Open In Colab\"/></a>"
      ]
    },
    {
      "cell_type": "markdown",
      "metadata": {
        "id": "C9BXruKnDOXd",
        "colab_type": "text"
      },
      "source": [
        "![machine_learning_header.png](https://raw.githubusercontent.com/satishgunjal/images/master/Machine_Learning_Header.png) \n",
        "\n",
        "In this tutorial we will see the brief introduction of Machine Learning and preferred learning plan for beginners.\n",
        "  \n",
        "## **What Is Machine Learning**\n",
        " \n",
        "We are using machine learning every day without even noticing it. Probably you are reading this tutorial because search engine algorithm suggested it to you. Few examples of everyday machine learning uses are,\n",
        " \n",
        "* Every time we do Google search, result are not sorted alphabetically or date wise, a machine learning algorithm sorts it based on relevance\n",
        "* Gmail uses machine learning algorithm to block spam email. Imagine using mail service like Gmail without spam filter?\n",
        "* Google photos use machine learning algorithm for sorting you and your loved one's photos.\n",
        " \n",
        "In so many ways, machine learning algorithms are either making decisions for us or helping us to make more informed decisions.\n",
        " \n",
        "Unlike traditional fixed rule based programming machine learning is a science of getting computers to learn without being explicitly programmed.\n",
        " \n",
        "## **Why Should We Learn It?**\n",
        " \n",
        "You must have heard the buzzword **\"Data Is New Oil\"**. So if data is going to be a new oil machine learning is the best tool to make use of exabytes of data generated every day\n",
        " \n",
        "Any individual, organization or a country must use the machine learning tools to analyze the data so that they can make well-informed decision. If they failed to do it they will be left behind.\n",
        " \n",
        "## **Learning Plan**\n",
        " \n",
        "In my opinion the best way to learn anything is to understand the concepts, practice it and then use it to solve some real world problems.\n",
        " \n",
        "I will follow the below four-step plan for every machine learning algorithm. \n",
        "* Step1: Understand the concepts using easy to understand intuitions \n",
        "* Step2: Write python code to implement the algorithm from scratch. \n",
        "* Step3: Test the algorithm with some test datasets.\n",
        "* Step4: Use open source library like scikit-learn to test same algorithm\n",
        " \n",
        "Since scikit-learn library has all the machine learning algorithms implemented it is very tempting to just start using it. But if you are beginner, I would recommond you to follow above plan so that you will learn inner workings of every algorithm and it will make huge difference in long run.\n",
        "\n",
        "Without further ado lets start with it...\n",
        " \n",
        "![fresh_start.png](https://github.com/satishgunjal/images/blob/master/fresh_start2.png?raw=true)\n",
        " \n",
        "## **Definition And Types Of Machine Learning**\n",
        " \n",
        "\"A program is said to learn from experience **'E'** with respect to some task **'T'**  and some performance measure **'P'**, if its performance(P) at task(T) improves with experience(E)\"  By Tom Mitchell\n",
        " \n",
        "Machine learning is subset of Artificial intelligence. To solve machine learning problems we either use mathematical models, or we can use neural network. Machine learning problems are of two type,\n",
        "* Supervise learning\n",
        "* Unsupervised learning\n",
        " \n",
        "![machine_learning_venn.png](https://github.com/satishgunjal/images/blob/master/Machine_Learning_Venn.png?raw=true)\n",
        " \n",
        "##**Supervised Learning**\n",
        " \n",
        "In supervised learning our dataset contains the input values and expected output values. For example consider below dataset of house size and price\n",
        " \n",
        "size(sqft) | price(K)\n",
        "--- | ---\n",
        "1200 | 3000 K\n",
        "1300 | 4000 K\n",
        "1400 | 5000 K\n",
        " \n",
        "So in supervise learning we have to understand the relationship between input and output values so that we can predict the values based on input data.\n",
        "Regression and classification are two types of supervised learning problems\n",
        "* **Regression problem**: If the prediction is some kind of continuous value like price of the house then it is called as regression problem\n",
        " \n",
        "* **Classification problem**: If the prediction is some kind of classification like house will sale or not then it is called as classification problem\n",
        " \n",
        "![regression_vs_classification.png](https://github.com/satishgunjal/images/blob/master/Regression_vs_Classification.png?raw=true)\n",
        " \n",
        "## **Unsupervised Learning**\n",
        " \n",
        "In case of unsupervised learning our dataset is without any set of output values or labels. Unsupervised learning is a learning setting where we give the algorithm a ton of unlabeled data and ask it to find some kind of structure in it.\n",
        " \n",
        "Since our data is unlabeled unsupervised learning allows us to approach a problem with little or no idea what our result should look like\n",
        " \n",
        "Clustering and association are two type of unsupervised learning problems\n",
        " \n",
        "* **Clustering**: Clustering problem is used to fin inherent grouping in data. e.g. In case of e-commerce finding a group of customers based on purchasing behavior\n",
        " \n",
        "* **Association**: Association problem is used to find rules that describe the large portions of data. e.g. In e-commerce finding a rule, why customers that buy X items also tends to buy Y items\n",
        "\n",
        " \n",
        "![clustering_vs_association.png](https://github.com/satishgunjal/images/blob/master/clustering_vs_association.png?raw=true)\n",
        "\n",
        " \n",
        "## **Machine Learning Models**\n",
        " \n",
        "In this series we are going to learn below machine learning models\n",
        " \n",
        "* Linear Regression\n",
        "  - Univariate linear regression\n",
        "  - Multivariate linear regression\n",
        "* Logistic regression\n",
        "  - Single class (binary) classification\n",
        "  - Multi class classification\n",
        "* Decision tree\n",
        "* Random Forest\n",
        "* Support vector machine\n",
        "* K fold cross validation\n",
        "* K means clustering\n",
        "* Naive Bayes\n",
        "* Hyper parameter tuning"
      ]
    },
    {
      "cell_type": "markdown",
      "metadata": {
        "id": "AazE5uJsu6vo",
        "colab_type": "text"
      },
      "source": [
        ""
      ]
    }
  ]
}